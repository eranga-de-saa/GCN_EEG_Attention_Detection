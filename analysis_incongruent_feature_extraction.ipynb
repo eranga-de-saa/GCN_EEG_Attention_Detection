{
 "cells": [
  {
   "cell_type": "code",
   "execution_count": 35,
   "metadata": {},
   "outputs": [],
   "source": [
    "from pyxdf import match_streaminfos, resolve_streams\n",
    "from mnelab.io.xdf import read_raw_xdf\n",
    "import mne\n",
    "import mnelab\n",
    "import numpy as np\n",
    "import matplotlib.pyplot as plt\n",
    "import os.path\n",
    "import pandas as pd\n",
    "import scipy\n",
    "import pickle"
   ]
  },
  {
   "cell_type": "code",
   "execution_count": 36,
   "metadata": {},
   "outputs": [],
   "source": [
    "reject_criteria = dict(eeg=100e-6)\n",
    "def read_file(raw):\n",
    "    raw.filter(2, 20)\n",
    "    raw2 =raw.copy().resample(150)\n",
    "    # ica = mne.preprocessing.ICA(n_components = 4, random_state = 0)\n",
    "    # ica.fit(raw2)\n",
    "    # raw2 = ica.apply(raw2,exclude = [0])\n",
    "    events, _ = mne.events_from_annotations(raw2)\n",
    "    # \"Non distraction + congruent\":6, \"distraction + congruent\" :4 , \"Non distraction + incongruent\":7, \"distraction + incongruent\" :5\n",
    "    event_ids = {\"Non distraction + incongruent\":7, \"distraction + incongruent\" :5}\n",
    "    epochs = mne.Epochs(raw2, events,event_id = event_ids,  preload=True,tmin = -0.5, tmax=1 , baseline=(None, 0),  reject=reject_criteria)\n",
    "    labels=epochs.events[:,-1]\n",
    "    features=epochs.get_data()\n",
    "    labels[labels == 5] = 1 # distracted\n",
    "    #labels[labels == 5] = 1 # distracted\n",
    "    labels[labels == 7 ] = 0 # nd\n",
    "    #labels[labels == 7] = 0 # nd\n",
    "\n",
    "    xx= np.array(features)\n",
    "        \n",
    "    NormalizedAll = xx - xx.min();\n",
    "    NormalizedAll = NormalizedAll / xx.max();\n",
    "    NormalizedAll=NormalizedAll.reshape(features.shape[0], 4, features.shape[2])\n",
    "\n",
    "    mat = np.zeros((features.shape[0],4,4))\n",
    "    for i in range (0,features.shape[0]):\n",
    "        Pearson_matrix = np.corrcoef(NormalizedAll[i,:,:]);\n",
    "        abs_Pearson_matrix =  abs(Pearson_matrix)\n",
    "        mat[i,:,:] = abs_Pearson_matrix -  np.eye(4, 4);\n",
    "\n",
    "    # epoch_incongruent_ND = mne.Epochs(raw2, events,event_id = event_ids[\"Non distraction + congruent\"],  preload=True,tmin = -0.5, tmax=0.8 , baseline=(None, 0))\n",
    "    # epoch_incongruent_D = mne.Epochs(raw2, events,event_id = event_ids[\"distraction + congruent\"],  preload=True,tmin = -0.5, tmax=0.8, baseline=(None, 0))\n",
    "\n",
    "    # epoch_incongruent_ND = mne.Epochs(raw2, events,event_id = event_ids[\"Non distraction + incongruent\"],  preload=True,tmin = -0.5, tmax=0.5 , baseline=(None, 0))\n",
    "    # epoch_incongruent_D = mne.Epochs(raw2, events,event_id = event_ids[\"distraction + incongruent\"],  preload=True,tmin = -0.5, tmax=0.5, baseline=(None, 0))\n",
    "\n",
    "    # epoch_D = mne.Epochs(raw2, events,event_id = event_ids[\"distraction + congruent\", \"distraction + incongruent\"],  preload=True,tmin = -0.5, tmax=0.5 , baseline=(None, 0))\n",
    "    # epoch_ND = mne.Epochs(raw2, events,event_id = event_ids[\"Non distraction + congruent\", \"distraction + incongruent\"],  preload=True,tmin = -0.5, tmax=0.5 , baseline=(None, 0))\n",
    "    \n",
    "    return mat,labels"
   ]
  },
  {
   "attachments": {},
   "cell_type": "markdown",
   "metadata": {},
   "source": [
    "Event ids are, 41 =  D + congruent, 42 =  D + incongruent,  51 =  ND + congruent, 52 =  ND + incongruent"
   ]
  },
  {
   "cell_type": "code",
   "execution_count": 37,
   "metadata": {},
   "outputs": [],
   "source": [
    "mne.set_log_level(verbose='WARNING', return_old_level=False, add_frames=None)"
   ]
  },
  {
   "cell_type": "code",
   "execution_count": 38,
   "metadata": {},
   "outputs": [
    {
     "name": "stderr",
     "output_type": "stream",
     "text": [
      "Stream 2: Calculated effective sampling rate 473.7025 Hz is different from specified rate 256.0000 Hz.\n"
     ]
    },
    {
     "name": "stdout",
     "output_type": "stream",
     "text": [
      "1\n"
     ]
    },
    {
     "name": "stderr",
     "output_type": "stream",
     "text": [
      "Stream 2: Calculated effective sampling rate 455.8237 Hz is different from specified rate 256.0000 Hz.\n",
      "Stream 2: Calculated effective sampling rate 475.2557 Hz is different from specified rate 256.0000 Hz.\n",
      "Stream 2: Calculated effective sampling rate 459.6645 Hz is different from specified rate 256.0000 Hz.\n",
      "Stream 2: Calculated effective sampling rate 476.0124 Hz is different from specified rate 256.0000 Hz.\n"
     ]
    },
    {
     "name": "stdout",
     "output_type": "stream",
     "text": [
      "2\n"
     ]
    },
    {
     "name": "stderr",
     "output_type": "stream",
     "text": [
      "Stream 2: Calculated effective sampling rate 390.8616 Hz is different from specified rate 256.0000 Hz.\n",
      "/var/folders/x4/6xjb_tfs6vdg6llm0_l4vjz00000gn/T/ipykernel_34696/1335903286.py:17: RuntimeWarning: Omitted 8 annotation(s) that were outside data range.\n",
      "  mne.io.concatenate_raws([raw, rawi], on_mismatch=\"ignore\")\n",
      "Stream 2: Calculated effective sampling rate 454.4369 Hz is different from specified rate 256.0000 Hz.\n",
      "Stream 2: Calculated effective sampling rate 464.3009 Hz is different from specified rate 256.0000 Hz.\n",
      "Stream 2: Calculated effective sampling rate 467.3554 Hz is different from specified rate 256.0000 Hz.\n"
     ]
    },
    {
     "name": "stdout",
     "output_type": "stream",
     "text": [
      "3\n"
     ]
    },
    {
     "name": "stderr",
     "output_type": "stream",
     "text": [
      "Stream 2: Calculated effective sampling rate 466.8037 Hz is different from specified rate 256.0000 Hz.\n",
      "Stream 2: Calculated effective sampling rate 461.8854 Hz is different from specified rate 256.0000 Hz.\n",
      "Stream 2: Calculated effective sampling rate 463.4191 Hz is different from specified rate 256.0000 Hz.\n",
      "Stream 2: Calculated effective sampling rate 488.5306 Hz is different from specified rate 256.0000 Hz.\n"
     ]
    },
    {
     "name": "stdout",
     "output_type": "stream",
     "text": [
      "4\n"
     ]
    },
    {
     "name": "stderr",
     "output_type": "stream",
     "text": [
      "Stream 2: Calculated effective sampling rate 473.6132 Hz is different from specified rate 256.0000 Hz.\n",
      "Stream 2: Calculated effective sampling rate 459.0440 Hz is different from specified rate 256.0000 Hz.\n",
      "Stream 2: Calculated effective sampling rate 457.9969 Hz is different from specified rate 256.0000 Hz.\n",
      "Stream 2: Calculated effective sampling rate 452.6263 Hz is different from specified rate 256.0000 Hz.\n"
     ]
    },
    {
     "name": "stdout",
     "output_type": "stream",
     "text": [
      "5\n"
     ]
    },
    {
     "name": "stderr",
     "output_type": "stream",
     "text": [
      "Stream 2: Calculated effective sampling rate 461.1234 Hz is different from specified rate 256.0000 Hz.\n",
      "Stream 2: Calculated effective sampling rate 470.4595 Hz is different from specified rate 256.0000 Hz.\n",
      "Stream 2: Calculated effective sampling rate 484.6633 Hz is different from specified rate 256.0000 Hz.\n",
      "Stream 2: Calculated effective sampling rate 469.7706 Hz is different from specified rate 256.0000 Hz.\n"
     ]
    },
    {
     "name": "stdout",
     "output_type": "stream",
     "text": [
      "6\n"
     ]
    },
    {
     "name": "stderr",
     "output_type": "stream",
     "text": [
      "Stream 2: Calculated effective sampling rate 479.3669 Hz is different from specified rate 256.0000 Hz.\n",
      "Stream 2: Calculated effective sampling rate 454.1174 Hz is different from specified rate 256.0000 Hz.\n",
      "Stream 2: Calculated effective sampling rate 461.5314 Hz is different from specified rate 256.0000 Hz.\n",
      "Stream 2: Calculated effective sampling rate 480.7917 Hz is different from specified rate 256.0000 Hz.\n"
     ]
    },
    {
     "name": "stdout",
     "output_type": "stream",
     "text": [
      "7\n"
     ]
    },
    {
     "name": "stderr",
     "output_type": "stream",
     "text": [
      "Stream 2: Calculated effective sampling rate 473.8533 Hz is different from specified rate 256.0000 Hz.\n",
      "Stream 2: Calculated effective sampling rate 454.6949 Hz is different from specified rate 256.0000 Hz.\n",
      "Stream 2: Calculated effective sampling rate 444.6427 Hz is different from specified rate 256.0000 Hz.\n"
     ]
    },
    {
     "name": "stdout",
     "output_type": "stream",
     "text": [
      "8\n"
     ]
    },
    {
     "name": "stderr",
     "output_type": "stream",
     "text": [
      "Stream 2: Calculated effective sampling rate 479.8115 Hz is different from specified rate 256.0000 Hz.\n",
      "Stream 2: Calculated effective sampling rate 479.8235 Hz is different from specified rate 256.0000 Hz.\n",
      "Stream 2: Calculated effective sampling rate 461.6930 Hz is different from specified rate 256.0000 Hz.\n",
      "Stream 2: Calculated effective sampling rate 454.5493 Hz is different from specified rate 256.0000 Hz.\n"
     ]
    },
    {
     "name": "stdout",
     "output_type": "stream",
     "text": [
      "9\n"
     ]
    },
    {
     "name": "stderr",
     "output_type": "stream",
     "text": [
      "Stream 2: Calculated effective sampling rate 474.2825 Hz is different from specified rate 256.0000 Hz.\n",
      "Stream 2: Calculated effective sampling rate 484.0926 Hz is different from specified rate 256.0000 Hz.\n",
      "Stream 2: Calculated effective sampling rate 467.5936 Hz is different from specified rate 256.0000 Hz.\n",
      "/var/folders/x4/6xjb_tfs6vdg6llm0_l4vjz00000gn/T/ipykernel_34696/1335903286.py:17: RuntimeWarning: Omitted 1 annotation(s) that were outside data range.\n",
      "  mne.io.concatenate_raws([raw, rawi], on_mismatch=\"ignore\")\n",
      "Stream 2: Calculated effective sampling rate 397.6749 Hz is different from specified rate 256.0000 Hz.\n",
      "Stream 2: Calculated effective sampling rate 326.8358 Hz is different from specified rate 256.0000 Hz.\n"
     ]
    },
    {
     "name": "stdout",
     "output_type": "stream",
     "text": [
      "10\n"
     ]
    },
    {
     "name": "stderr",
     "output_type": "stream",
     "text": [
      "/var/folders/x4/6xjb_tfs6vdg6llm0_l4vjz00000gn/T/ipykernel_34696/1335903286.py:17: RuntimeWarning: Omitted 13 annotation(s) that were outside data range.\n",
      "  mne.io.concatenate_raws([raw, rawi], on_mismatch=\"ignore\")\n",
      "Stream 2: Calculated effective sampling rate 479.4622 Hz is different from specified rate 256.0000 Hz.\n",
      "Stream 2: Calculated effective sampling rate 453.6855 Hz is different from specified rate 256.0000 Hz.\n",
      "Stream 2: Calculated effective sampling rate 482.1637 Hz is different from specified rate 256.0000 Hz.\n"
     ]
    },
    {
     "name": "stdout",
     "output_type": "stream",
     "text": [
      "11\n"
     ]
    },
    {
     "name": "stderr",
     "output_type": "stream",
     "text": [
      "Stream 2: Calculated effective sampling rate 484.7892 Hz is different from specified rate 256.0000 Hz.\n",
      "Stream 2: Calculated effective sampling rate 463.0687 Hz is different from specified rate 256.0000 Hz.\n",
      "Stream 2: Calculated effective sampling rate 473.0111 Hz is different from specified rate 256.0000 Hz.\n",
      "Stream 2: Calculated effective sampling rate 453.7439 Hz is different from specified rate 256.0000 Hz.\n"
     ]
    },
    {
     "name": "stdout",
     "output_type": "stream",
     "text": [
      "12\n"
     ]
    },
    {
     "name": "stderr",
     "output_type": "stream",
     "text": [
      "Stream 2: Calculated effective sampling rate 432.5826 Hz is different from specified rate 256.0000 Hz.\n",
      "/var/folders/x4/6xjb_tfs6vdg6llm0_l4vjz00000gn/T/ipykernel_34696/1335903286.py:17: RuntimeWarning: Omitted 4 annotation(s) that were outside data range.\n",
      "  mne.io.concatenate_raws([raw, rawi], on_mismatch=\"ignore\")\n",
      "Stream 2: Calculated effective sampling rate 476.4706 Hz is different from specified rate 256.0000 Hz.\n",
      "Stream 2: Calculated effective sampling rate 484.4638 Hz is different from specified rate 256.0000 Hz.\n",
      "Stream 2: Calculated effective sampling rate 454.5504 Hz is different from specified rate 256.0000 Hz.\n"
     ]
    },
    {
     "name": "stdout",
     "output_type": "stream",
     "text": [
      "13\n"
     ]
    },
    {
     "name": "stderr",
     "output_type": "stream",
     "text": [
      "Stream 2: Calculated effective sampling rate 483.9418 Hz is different from specified rate 256.0000 Hz.\n",
      "Stream 2: Calculated effective sampling rate 478.7730 Hz is different from specified rate 256.0000 Hz.\n",
      "Stream 2: Calculated effective sampling rate 459.5845 Hz is different from specified rate 256.0000 Hz.\n",
      "Stream 2: Calculated effective sampling rate 336.5949 Hz is different from specified rate 256.0000 Hz.\n",
      "Stream 2: Calculated effective sampling rate 463.1029 Hz is different from specified rate 256.0000 Hz.\n"
     ]
    },
    {
     "name": "stdout",
     "output_type": "stream",
     "text": [
      "14\n"
     ]
    },
    {
     "name": "stderr",
     "output_type": "stream",
     "text": [
      "Stream 2: Calculated effective sampling rate 475.3791 Hz is different from specified rate 256.0000 Hz.\n",
      "Stream 2: Calculated effective sampling rate 482.8830 Hz is different from specified rate 256.0000 Hz.\n",
      "Stream 2: Calculated effective sampling rate 471.5614 Hz is different from specified rate 256.0000 Hz.\n"
     ]
    },
    {
     "name": "stdout",
     "output_type": "stream",
     "text": [
      "15\n"
     ]
    },
    {
     "name": "stderr",
     "output_type": "stream",
     "text": [
      "Stream 2: Calculated effective sampling rate 459.6389 Hz is different from specified rate 256.0000 Hz.\n",
      "Stream 2: Calculated effective sampling rate 461.3992 Hz is different from specified rate 256.0000 Hz.\n",
      "Stream 2: Calculated effective sampling rate 477.1344 Hz is different from specified rate 256.0000 Hz.\n",
      "Stream 2: Calculated effective sampling rate 457.2271 Hz is different from specified rate 256.0000 Hz.\n"
     ]
    },
    {
     "name": "stdout",
     "output_type": "stream",
     "text": [
      "16\n"
     ]
    },
    {
     "name": "stderr",
     "output_type": "stream",
     "text": [
      "Stream 2: Calculated effective sampling rate 487.3544 Hz is different from specified rate 256.0000 Hz.\n",
      "Stream 2: Calculated effective sampling rate 480.3255 Hz is different from specified rate 256.0000 Hz.\n",
      "Stream 2: Calculated effective sampling rate 473.0518 Hz is different from specified rate 256.0000 Hz.\n",
      "Stream 2: Calculated effective sampling rate 485.3193 Hz is different from specified rate 256.0000 Hz.\n"
     ]
    },
    {
     "name": "stdout",
     "output_type": "stream",
     "text": [
      "17\n"
     ]
    },
    {
     "name": "stderr",
     "output_type": "stream",
     "text": [
      "Stream 2: Calculated effective sampling rate 283.1470 Hz is different from specified rate 256.0000 Hz.\n",
      "/var/folders/x4/6xjb_tfs6vdg6llm0_l4vjz00000gn/T/ipykernel_34696/1335903286.py:17: RuntimeWarning: Omitted 9 annotation(s) that were outside data range.\n",
      "  mne.io.concatenate_raws([raw, rawi], on_mismatch=\"ignore\")\n",
      "Stream 2: Calculated effective sampling rate 465.1519 Hz is different from specified rate 256.0000 Hz.\n",
      "/var/folders/x4/6xjb_tfs6vdg6llm0_l4vjz00000gn/T/ipykernel_34696/1335903286.py:17: RuntimeWarning: Omitted 5 annotation(s) that were outside data range.\n",
      "  mne.io.concatenate_raws([raw, rawi], on_mismatch=\"ignore\")\n",
      "Stream 2: Calculated effective sampling rate 474.0294 Hz is different from specified rate 256.0000 Hz.\n",
      "Stream 2: Calculated effective sampling rate 469.4828 Hz is different from specified rate 256.0000 Hz.\n"
     ]
    },
    {
     "name": "stdout",
     "output_type": "stream",
     "text": [
      "18\n"
     ]
    },
    {
     "name": "stderr",
     "output_type": "stream",
     "text": [
      "Stream 2: Calculated effective sampling rate 482.7663 Hz is different from specified rate 256.0000 Hz.\n",
      "Stream 2: Calculated effective sampling rate 475.3240 Hz is different from specified rate 256.0000 Hz.\n",
      "Stream 2: Calculated effective sampling rate 456.3403 Hz is different from specified rate 256.0000 Hz.\n",
      "Stream 2: Calculated effective sampling rate 469.7415 Hz is different from specified rate 256.0000 Hz.\n"
     ]
    },
    {
     "name": "stdout",
     "output_type": "stream",
     "text": [
      "19\n"
     ]
    },
    {
     "name": "stderr",
     "output_type": "stream",
     "text": [
      "Stream 2: Calculated effective sampling rate 467.5118 Hz is different from specified rate 256.0000 Hz.\n",
      "Stream 2: Calculated effective sampling rate 459.9489 Hz is different from specified rate 256.0000 Hz.\n",
      "Stream 2: Calculated effective sampling rate 470.8543 Hz is different from specified rate 256.0000 Hz.\n",
      "Stream 2: Calculated effective sampling rate 485.2200 Hz is different from specified rate 256.0000 Hz.\n"
     ]
    },
    {
     "name": "stdout",
     "output_type": "stream",
     "text": [
      "20\n"
     ]
    },
    {
     "name": "stderr",
     "output_type": "stream",
     "text": [
      "Stream 2: Calculated effective sampling rate 471.5687 Hz is different from specified rate 256.0000 Hz.\n",
      "Stream 2: Calculated effective sampling rate 439.5069 Hz is different from specified rate 256.0000 Hz.\n",
      "/var/folders/x4/6xjb_tfs6vdg6llm0_l4vjz00000gn/T/ipykernel_34696/1335903286.py:17: RuntimeWarning: Omitted 5 annotation(s) that were outside data range.\n",
      "  mne.io.concatenate_raws([raw, rawi], on_mismatch=\"ignore\")\n",
      "Stream 2: Calculated effective sampling rate 475.3133 Hz is different from specified rate 256.0000 Hz.\n"
     ]
    }
   ],
   "source": [
    "graphs, labels, groups=[],[],[]\n",
    "for pnum in range(1,21):\n",
    "    paraticipant = \"P\"+ str(pnum)\n",
    "    print(pnum) \n",
    "\n",
    "    path ='./'+ paraticipant +'/'\n",
    "    raw = None \n",
    "    for num in range(1,5):\n",
    "        fileNamei = paraticipant +'_b'  + str(num) + \".xdf\"\n",
    "        path_addr = path + fileNamei\n",
    "        if (os.path.exists(path_addr)):\n",
    "            streams = resolve_streams(path_addr)\n",
    "            stream_id = match_streaminfos(streams, [{\"type\": \"EEG\"}])[0]\n",
    "            rawi = read_raw_xdf(path_addr, stream_ids=[stream_id]).resample(250)\n",
    "            \n",
    "            if (raw is not None):\n",
    "                mne.io.concatenate_raws([raw, rawi], on_mismatch=\"ignore\")\n",
    "            else:\n",
    "                raw = rawi  \n",
    "\n",
    "            if (pnum == 13) or (pnum == 19):\n",
    "                raw = None      \n",
    "\n",
    "    if (raw is not None):\n",
    "        graphs_sess1,label_sess1= read_file(raw)\n",
    "        graphs.append(graphs_sess1)\n",
    "        labels.append(label_sess1)\n",
    "        groups.append([pnum]*(len(label_sess1)))"
   ]
  },
  {
   "cell_type": "code",
   "execution_count": 15,
   "metadata": {},
   "outputs": [],
   "source": [
    "# import numpy as np\n",
    "# data_array=np.concatenate(features)\n",
    "# labels=np.concatenate(labels)\n",
    "# groups=np.concatenate(groups)\n",
    "\n",
    "# features.shape,labels.shape,groups.shape"
   ]
  },
  {
   "cell_type": "code",
   "execution_count": 39,
   "metadata": {},
   "outputs": [
    {
     "name": "stdout",
     "output_type": "stream",
     "text": [
      "(878, 4, 4) (878,) (878,)\n"
     ]
    }
   ],
   "source": [
    "graph_array=np.vstack(graphs)\n",
    "label_array=np.hstack(labels)\n",
    "group_array=np.hstack(groups)\n",
    "print(graph_array.shape,label_array.shape,group_array.shape)"
   ]
  },
  {
   "cell_type": "code",
   "execution_count": 40,
   "metadata": {},
   "outputs": [
    {
     "name": "stdout",
     "output_type": "stream",
     "text": [
      "[[ 1 39]\n",
      " [ 2 69]\n",
      " [ 3 56]\n",
      " [ 4 88]\n",
      " [ 5 55]\n",
      " [ 6 49]\n",
      " [ 7 56]\n",
      " [ 8 65]\n",
      " [ 9 62]\n",
      " [10 60]\n",
      " [11 69]\n",
      " [12 16]\n",
      " [14 46]\n",
      " [15 39]\n",
      " [16  2]\n",
      " [17 45]\n",
      " [18 20]\n",
      " [20 42]]\n",
      "[[ 1 39]\n",
      " [ 2 39]\n",
      " [ 3 39]\n",
      " [ 4 39]\n",
      " [ 5 39]\n",
      " [ 6 39]\n",
      " [ 7 39]\n",
      " [ 8 39]\n",
      " [ 9 39]\n",
      " [10 39]\n",
      " [11 39]\n",
      " [14 39]\n",
      " [15 39]\n",
      " [17 39]\n",
      " [20 39]]\n"
     ]
    }
   ],
   "source": [
    "unique, counts = np.unique(group_array, return_counts=True)\n",
    "print(np.asarray((unique, counts)).T)\n",
    "\n",
    "selected_graphs = []\n",
    "selected_labels = []\n",
    "selected_groups = []\n",
    "\n",
    "num_of_graphs= 39\n",
    "\n",
    "for p in unique:\n",
    "    graph_indexes = np.where(group_array == p)[0]\n",
    "    no_of_graphs_for_p = len(graph_indexes)\n",
    "    if no_of_graphs_for_p >= num_of_graphs:\n",
    "        # only selects the first 16 indexes\n",
    "        selected_graph_indexes = graph_indexes[:num_of_graphs]\n",
    "        # selected_graphs = np.append(selected_graphs, graph_array[selected_graph_indexes,:,:])\n",
    "        # selected_labels = np.append(selected_labels, label_array[selected_graph_indexes])\n",
    "        # selected_groups = np.append(selected_groups, group_array[selected_graph_indexes])\n",
    "\n",
    "        selected_graphs.append(graph_array[selected_graph_indexes])\n",
    "        selected_labels.extend(label_array[selected_graph_indexes])\n",
    "        selected_groups.extend(group_array[selected_graph_indexes])\n",
    "\n",
    "selected_graphs = np.concatenate(selected_graphs, axis=0) if selected_graphs else np.array([])\n",
    "# selected_labels = np.concatenate(selected_labels) if selected_labels else np.array([])\n",
    "# selected_groups = np.concatenate(selected_groups) if selected_groups else np.array([])        \n",
    "\n",
    "\n",
    "\n",
    "unique, counts = np.unique(selected_groups, return_counts=True)\n",
    "print(np.asarray((unique, counts)).T)"
   ]
  },
  {
   "cell_type": "code",
   "execution_count": 43,
   "metadata": {},
   "outputs": [
    {
     "name": "stdout",
     "output_type": "stream",
     "text": [
      "[[ 1 39]\n",
      " [ 2 39]\n",
      " [ 3 39]\n",
      " [ 4 39]\n",
      " [ 5 39]\n",
      " [ 6 39]\n",
      " [ 7 39]\n",
      " [ 8 39]\n",
      " [ 9 39]\n",
      " [10 39]\n",
      " [11 39]\n",
      " [14 39]\n",
      " [15 39]\n",
      " [17 39]\n",
      " [20 39]]\n"
     ]
    }
   ],
   "source": [
    "unique, counts = np.unique(selected_groups, return_counts=True)\n",
    "print(np.asarray((unique, counts)).T)"
   ]
  },
  {
   "cell_type": "code",
   "execution_count": 42,
   "metadata": {},
   "outputs": [
    {
     "name": "stdout",
     "output_type": "stream",
     "text": [
      "[[  0 341]\n",
      " [  1 244]]\n"
     ]
    }
   ],
   "source": [
    "unique, counts = np.unique(selected_labels, return_counts=True)\n",
    "print(np.asarray((unique, counts)).T)"
   ]
  },
  {
   "cell_type": "code",
   "execution_count": 32,
   "metadata": {},
   "outputs": [],
   "source": [
    "with open('incongruent_graphs.pickle', 'wb') as output:\n",
    "    pickle.dump(selected_graphs, output)\n",
    "\n",
    "\n",
    "with open('incongruent_labels.pickle', 'wb') as output:\n",
    "    pickle.dump(selected_labels, output)\n",
    "\n",
    "\n",
    "with open('incongruent_groups.pickle', 'wb') as output:\n",
    "    pickle.dump(selected_groups, output)    \n"
   ]
  }
 ],
 "metadata": {
  "kernelspec": {
   "display_name": "env",
   "language": "python",
   "name": "python3"
  },
  "language_info": {
   "codemirror_mode": {
    "name": "ipython",
    "version": 3
   },
   "file_extension": ".py",
   "mimetype": "text/x-python",
   "name": "python",
   "nbconvert_exporter": "python",
   "pygments_lexer": "ipython3",
   "version": "3.10.11"
  },
  "orig_nbformat": 4
 },
 "nbformat": 4,
 "nbformat_minor": 2
}
