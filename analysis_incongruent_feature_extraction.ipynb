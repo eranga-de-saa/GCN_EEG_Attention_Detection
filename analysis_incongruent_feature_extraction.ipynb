{
 "cells": [
  {
   "cell_type": "code",
   "execution_count": 21,
   "metadata": {},
   "outputs": [],
   "source": [
    "from pyxdf import match_streaminfos, resolve_streams\n",
    "from mnelab.io.xdf import read_raw_xdf\n",
    "import mne\n",
    "import mnelab\n",
    "import numpy as np\n",
    "import matplotlib.pyplot as plt\n",
    "import os.path\n",
    "import pandas as pd\n",
    "import scipy\n",
    "import pickle"
   ]
  },
  {
   "cell_type": "code",
   "execution_count": 30,
   "metadata": {},
   "outputs": [],
   "source": [
    "reject_criteria = dict(eeg=100e-6)\n",
    "def read_file(raw):\n",
    "    raw.filter(2, 20)\n",
    "    raw2 =raw.copy().resample(150)\n",
    "    # ica = mne.preprocessing.ICA(n_components = 4, random_state = 0)\n",
    "    # ica.fit(raw2)\n",
    "    # raw2 = ica.apply(raw2,exclude = [0])\n",
    "    events, _ = mne.events_from_annotations(raw2)\n",
    "    # \"Non distraction + congruent\":6, \"distraction + congruent\" :4 , \"Non distraction + incongruent\":7, \"distraction + incongruent\" :5\n",
    "    event_ids = {\"Non distraction + incongruent\":7, \"distraction + incongruent\" :5}\n",
    "    epochs = mne.Epochs(raw2, events,event_id = event_ids,  preload=True,tmin = -0.5, tmax=1 , baseline=(None, 0),  reject=reject_criteria)\n",
    "    labels=epochs.events[:,-1]\n",
    "    features=epochs.get_data()\n",
    "    labels[labels == 5] = 1 # distracted\n",
    "    #labels[labels == 5] = 1 # distracted\n",
    "    labels[labels == 7 ] = 0 # nd\n",
    "    #labels[labels == 7] = 0 # nd\n",
    "\n",
    "    xx= np.array(features)\n",
    "        \n",
    "    NormalizedAll = xx - xx.min();\n",
    "    NormalizedAll = NormalizedAll / xx.max();\n",
    "    NormalizedAll=NormalizedAll.reshape(features.shape[0], 4, features.shape[2])\n",
    "\n",
    "    mat = np.zeros((features.shape[0],4,4))\n",
    "    for i in range (0,features.shape[0]):\n",
    "        Pearson_matrix = np.corrcoef(NormalizedAll[i,:,:]);\n",
    "        abs_Pearson_matrix =  abs(Pearson_matrix)\n",
    "        mat[i,:,:] = abs_Pearson_matrix -  np.eye(4, 4);\n",
    "\n",
    "    # epoch_incongruent_ND = mne.Epochs(raw2, events,event_id = event_ids[\"Non distraction + congruent\"],  preload=True,tmin = -0.5, tmax=0.8 , baseline=(None, 0))\n",
    "    # epoch_incongruent_D = mne.Epochs(raw2, events,event_id = event_ids[\"distraction + congruent\"],  preload=True,tmin = -0.5, tmax=0.8, baseline=(None, 0))\n",
    "\n",
    "    # epoch_incongruent_ND = mne.Epochs(raw2, events,event_id = event_ids[\"Non distraction + incongruent\"],  preload=True,tmin = -0.5, tmax=0.5 , baseline=(None, 0))\n",
    "    # epoch_incongruent_D = mne.Epochs(raw2, events,event_id = event_ids[\"distraction + incongruent\"],  preload=True,tmin = -0.5, tmax=0.5, baseline=(None, 0))\n",
    "\n",
    "    # epoch_D = mne.Epochs(raw2, events,event_id = event_ids[\"distraction + congruent\", \"distraction + incongruent\"],  preload=True,tmin = -0.5, tmax=0.5 , baseline=(None, 0))\n",
    "    # epoch_ND = mne.Epochs(raw2, events,event_id = event_ids[\"Non distraction + congruent\", \"distraction + incongruent\"],  preload=True,tmin = -0.5, tmax=0.5 , baseline=(None, 0))\n",
    "    \n",
    "    return mat,labels"
   ]
  },
  {
   "attachments": {},
   "cell_type": "markdown",
   "metadata": {},
   "source": [
    "Event ids are, 41 =  D + congruent, 42 =  D + incongruent,  51 =  ND + congruent, 52 =  ND + incongruent"
   ]
  },
  {
   "cell_type": "code",
   "execution_count": 24,
   "metadata": {},
   "outputs": [],
   "source": [
    "mne.set_log_level(verbose='WARNING', return_old_level=False, add_frames=None)"
   ]
  },
  {
   "cell_type": "code",
   "execution_count": 39,
   "metadata": {},
   "outputs": [
    {
     "name": "stderr",
     "output_type": "stream",
     "text": [
      "Stream 2: Calculated effective sampling rate 473.7025 Hz is different from specified rate 256.0000 Hz.\n"
     ]
    },
    {
     "name": "stdout",
     "output_type": "stream",
     "text": [
      "1\n"
     ]
    },
    {
     "name": "stderr",
     "output_type": "stream",
     "text": [
      "Stream 2: Calculated effective sampling rate 455.8237 Hz is different from specified rate 256.0000 Hz.\n",
      "Stream 2: Calculated effective sampling rate 475.2557 Hz is different from specified rate 256.0000 Hz.\n",
      "Stream 2: Calculated effective sampling rate 459.6645 Hz is different from specified rate 256.0000 Hz.\n",
      "Stream 2: Calculated effective sampling rate 476.0124 Hz is different from specified rate 256.0000 Hz.\n"
     ]
    },
    {
     "name": "stdout",
     "output_type": "stream",
     "text": [
      "2\n"
     ]
    },
    {
     "name": "stderr",
     "output_type": "stream",
     "text": [
      "Stream 2: Calculated effective sampling rate 390.8616 Hz is different from specified rate 256.0000 Hz.\n",
      "/var/folders/x4/6xjb_tfs6vdg6llm0_l4vjz00000gn/T/ipykernel_1069/165952213.py:17: RuntimeWarning: Omitted 8 annotation(s) that were outside data range.\n",
      "  mne.io.concatenate_raws([raw, rawi], on_mismatch=\"ignore\")\n",
      "Stream 2: Calculated effective sampling rate 454.4369 Hz is different from specified rate 256.0000 Hz.\n",
      "Stream 2: Calculated effective sampling rate 464.3009 Hz is different from specified rate 256.0000 Hz.\n",
      "Stream 2: Calculated effective sampling rate 467.3554 Hz is different from specified rate 256.0000 Hz.\n"
     ]
    },
    {
     "name": "stdout",
     "output_type": "stream",
     "text": [
      "3\n"
     ]
    },
    {
     "name": "stderr",
     "output_type": "stream",
     "text": [
      "Stream 2: Calculated effective sampling rate 466.8037 Hz is different from specified rate 256.0000 Hz.\n",
      "Stream 2: Calculated effective sampling rate 461.8854 Hz is different from specified rate 256.0000 Hz.\n",
      "Stream 2: Calculated effective sampling rate 463.4191 Hz is different from specified rate 256.0000 Hz.\n",
      "Stream 2: Calculated effective sampling rate 488.5306 Hz is different from specified rate 256.0000 Hz.\n"
     ]
    },
    {
     "name": "stdout",
     "output_type": "stream",
     "text": [
      "4\n"
     ]
    },
    {
     "name": "stderr",
     "output_type": "stream",
     "text": [
      "Stream 2: Calculated effective sampling rate 473.6132 Hz is different from specified rate 256.0000 Hz.\n",
      "Stream 2: Calculated effective sampling rate 459.0440 Hz is different from specified rate 256.0000 Hz.\n",
      "Stream 2: Calculated effective sampling rate 457.9969 Hz is different from specified rate 256.0000 Hz.\n",
      "Stream 2: Calculated effective sampling rate 452.6263 Hz is different from specified rate 256.0000 Hz.\n"
     ]
    },
    {
     "name": "stdout",
     "output_type": "stream",
     "text": [
      "5\n"
     ]
    },
    {
     "name": "stderr",
     "output_type": "stream",
     "text": [
      "Stream 2: Calculated effective sampling rate 461.1234 Hz is different from specified rate 256.0000 Hz.\n",
      "Stream 2: Calculated effective sampling rate 470.4595 Hz is different from specified rate 256.0000 Hz.\n",
      "Stream 2: Calculated effective sampling rate 484.6633 Hz is different from specified rate 256.0000 Hz.\n",
      "Stream 2: Calculated effective sampling rate 469.7706 Hz is different from specified rate 256.0000 Hz.\n"
     ]
    },
    {
     "name": "stdout",
     "output_type": "stream",
     "text": [
      "6\n"
     ]
    },
    {
     "name": "stderr",
     "output_type": "stream",
     "text": [
      "Stream 2: Calculated effective sampling rate 479.3669 Hz is different from specified rate 256.0000 Hz.\n",
      "Stream 2: Calculated effective sampling rate 454.1174 Hz is different from specified rate 256.0000 Hz.\n",
      "Stream 2: Calculated effective sampling rate 461.5314 Hz is different from specified rate 256.0000 Hz.\n",
      "Stream 2: Calculated effective sampling rate 480.7917 Hz is different from specified rate 256.0000 Hz.\n"
     ]
    },
    {
     "name": "stdout",
     "output_type": "stream",
     "text": [
      "7\n"
     ]
    },
    {
     "name": "stderr",
     "output_type": "stream",
     "text": [
      "Stream 2: Calculated effective sampling rate 473.8533 Hz is different from specified rate 256.0000 Hz.\n",
      "Stream 2: Calculated effective sampling rate 454.6949 Hz is different from specified rate 256.0000 Hz.\n",
      "Stream 2: Calculated effective sampling rate 444.6427 Hz is different from specified rate 256.0000 Hz.\n"
     ]
    },
    {
     "name": "stdout",
     "output_type": "stream",
     "text": [
      "8\n"
     ]
    },
    {
     "name": "stderr",
     "output_type": "stream",
     "text": [
      "Stream 2: Calculated effective sampling rate 479.8115 Hz is different from specified rate 256.0000 Hz.\n",
      "Stream 2: Calculated effective sampling rate 479.8235 Hz is different from specified rate 256.0000 Hz.\n",
      "Stream 2: Calculated effective sampling rate 461.6930 Hz is different from specified rate 256.0000 Hz.\n",
      "Stream 2: Calculated effective sampling rate 454.5493 Hz is different from specified rate 256.0000 Hz.\n"
     ]
    },
    {
     "name": "stdout",
     "output_type": "stream",
     "text": [
      "9\n"
     ]
    },
    {
     "name": "stderr",
     "output_type": "stream",
     "text": [
      "Stream 2: Calculated effective sampling rate 474.2825 Hz is different from specified rate 256.0000 Hz.\n",
      "Stream 2: Calculated effective sampling rate 484.0926 Hz is different from specified rate 256.0000 Hz.\n",
      "Stream 2: Calculated effective sampling rate 467.5936 Hz is different from specified rate 256.0000 Hz.\n",
      "/var/folders/x4/6xjb_tfs6vdg6llm0_l4vjz00000gn/T/ipykernel_1069/165952213.py:17: RuntimeWarning: Omitted 1 annotation(s) that were outside data range.\n",
      "  mne.io.concatenate_raws([raw, rawi], on_mismatch=\"ignore\")\n",
      "Stream 2: Calculated effective sampling rate 397.6749 Hz is different from specified rate 256.0000 Hz.\n"
     ]
    },
    {
     "name": "stdout",
     "output_type": "stream",
     "text": [
      "10\n"
     ]
    },
    {
     "name": "stderr",
     "output_type": "stream",
     "text": [
      "Stream 2: Calculated effective sampling rate 326.8358 Hz is different from specified rate 256.0000 Hz.\n",
      "/var/folders/x4/6xjb_tfs6vdg6llm0_l4vjz00000gn/T/ipykernel_1069/165952213.py:17: RuntimeWarning: Omitted 13 annotation(s) that were outside data range.\n",
      "  mne.io.concatenate_raws([raw, rawi], on_mismatch=\"ignore\")\n",
      "Stream 2: Calculated effective sampling rate 479.4622 Hz is different from specified rate 256.0000 Hz.\n",
      "Stream 2: Calculated effective sampling rate 453.6855 Hz is different from specified rate 256.0000 Hz.\n",
      "Stream 2: Calculated effective sampling rate 482.1637 Hz is different from specified rate 256.0000 Hz.\n"
     ]
    },
    {
     "name": "stdout",
     "output_type": "stream",
     "text": [
      "11\n"
     ]
    },
    {
     "name": "stderr",
     "output_type": "stream",
     "text": [
      "Stream 2: Calculated effective sampling rate 484.7892 Hz is different from specified rate 256.0000 Hz.\n",
      "Stream 2: Calculated effective sampling rate 463.0687 Hz is different from specified rate 256.0000 Hz.\n",
      "Stream 2: Calculated effective sampling rate 473.0111 Hz is different from specified rate 256.0000 Hz.\n",
      "Stream 2: Calculated effective sampling rate 453.7439 Hz is different from specified rate 256.0000 Hz.\n"
     ]
    },
    {
     "name": "stdout",
     "output_type": "stream",
     "text": [
      "12\n"
     ]
    },
    {
     "name": "stderr",
     "output_type": "stream",
     "text": [
      "Stream 2: Calculated effective sampling rate 432.5826 Hz is different from specified rate 256.0000 Hz.\n",
      "/var/folders/x4/6xjb_tfs6vdg6llm0_l4vjz00000gn/T/ipykernel_1069/165952213.py:17: RuntimeWarning: Omitted 4 annotation(s) that were outside data range.\n",
      "  mne.io.concatenate_raws([raw, rawi], on_mismatch=\"ignore\")\n",
      "Stream 2: Calculated effective sampling rate 476.4706 Hz is different from specified rate 256.0000 Hz.\n",
      "Stream 2: Calculated effective sampling rate 484.4638 Hz is different from specified rate 256.0000 Hz.\n",
      "Stream 2: Calculated effective sampling rate 454.5504 Hz is different from specified rate 256.0000 Hz.\n"
     ]
    },
    {
     "name": "stdout",
     "output_type": "stream",
     "text": [
      "13\n"
     ]
    },
    {
     "name": "stderr",
     "output_type": "stream",
     "text": [
      "Stream 2: Calculated effective sampling rate 483.9418 Hz is different from specified rate 256.0000 Hz.\n",
      "Stream 2: Calculated effective sampling rate 478.7730 Hz is different from specified rate 256.0000 Hz.\n",
      "Stream 2: Calculated effective sampling rate 459.5845 Hz is different from specified rate 256.0000 Hz.\n",
      "Stream 2: Calculated effective sampling rate 336.5949 Hz is different from specified rate 256.0000 Hz.\n"
     ]
    },
    {
     "name": "stdout",
     "output_type": "stream",
     "text": [
      "14\n"
     ]
    },
    {
     "name": "stderr",
     "output_type": "stream",
     "text": [
      "Stream 2: Calculated effective sampling rate 463.1029 Hz is different from specified rate 256.0000 Hz.\n",
      "Stream 2: Calculated effective sampling rate 475.3791 Hz is different from specified rate 256.0000 Hz.\n",
      "Stream 2: Calculated effective sampling rate 482.8830 Hz is different from specified rate 256.0000 Hz.\n",
      "Stream 2: Calculated effective sampling rate 471.5614 Hz is different from specified rate 256.0000 Hz.\n"
     ]
    },
    {
     "name": "stdout",
     "output_type": "stream",
     "text": [
      "15\n"
     ]
    },
    {
     "name": "stderr",
     "output_type": "stream",
     "text": [
      "Stream 2: Calculated effective sampling rate 459.6389 Hz is different from specified rate 256.0000 Hz.\n",
      "Stream 2: Calculated effective sampling rate 461.3992 Hz is different from specified rate 256.0000 Hz.\n",
      "Stream 2: Calculated effective sampling rate 477.1344 Hz is different from specified rate 256.0000 Hz.\n",
      "Stream 2: Calculated effective sampling rate 457.2271 Hz is different from specified rate 256.0000 Hz.\n"
     ]
    },
    {
     "name": "stdout",
     "output_type": "stream",
     "text": [
      "16\n"
     ]
    },
    {
     "name": "stderr",
     "output_type": "stream",
     "text": [
      "Stream 2: Calculated effective sampling rate 487.3544 Hz is different from specified rate 256.0000 Hz.\n",
      "Stream 2: Calculated effective sampling rate 480.3255 Hz is different from specified rate 256.0000 Hz.\n",
      "Stream 2: Calculated effective sampling rate 473.0518 Hz is different from specified rate 256.0000 Hz.\n",
      "Stream 2: Calculated effective sampling rate 485.3193 Hz is different from specified rate 256.0000 Hz.\n"
     ]
    },
    {
     "name": "stdout",
     "output_type": "stream",
     "text": [
      "17\n"
     ]
    },
    {
     "name": "stderr",
     "output_type": "stream",
     "text": [
      "Stream 2: Calculated effective sampling rate 283.1470 Hz is different from specified rate 256.0000 Hz.\n",
      "/var/folders/x4/6xjb_tfs6vdg6llm0_l4vjz00000gn/T/ipykernel_1069/165952213.py:17: RuntimeWarning: Omitted 9 annotation(s) that were outside data range.\n",
      "  mne.io.concatenate_raws([raw, rawi], on_mismatch=\"ignore\")\n",
      "Stream 2: Calculated effective sampling rate 465.1519 Hz is different from specified rate 256.0000 Hz.\n",
      "/var/folders/x4/6xjb_tfs6vdg6llm0_l4vjz00000gn/T/ipykernel_1069/165952213.py:17: RuntimeWarning: Omitted 5 annotation(s) that were outside data range.\n",
      "  mne.io.concatenate_raws([raw, rawi], on_mismatch=\"ignore\")\n",
      "Stream 2: Calculated effective sampling rate 474.0294 Hz is different from specified rate 256.0000 Hz.\n",
      "Stream 2: Calculated effective sampling rate 469.4828 Hz is different from specified rate 256.0000 Hz.\n"
     ]
    },
    {
     "name": "stdout",
     "output_type": "stream",
     "text": [
      "18\n"
     ]
    },
    {
     "name": "stderr",
     "output_type": "stream",
     "text": [
      "Stream 2: Calculated effective sampling rate 482.7663 Hz is different from specified rate 256.0000 Hz.\n",
      "Stream 2: Calculated effective sampling rate 475.3240 Hz is different from specified rate 256.0000 Hz.\n",
      "Stream 2: Calculated effective sampling rate 456.3403 Hz is different from specified rate 256.0000 Hz.\n",
      "Stream 2: Calculated effective sampling rate 469.7415 Hz is different from specified rate 256.0000 Hz.\n"
     ]
    },
    {
     "name": "stdout",
     "output_type": "stream",
     "text": [
      "19\n"
     ]
    },
    {
     "name": "stderr",
     "output_type": "stream",
     "text": [
      "Stream 2: Calculated effective sampling rate 467.5118 Hz is different from specified rate 256.0000 Hz.\n",
      "Stream 2: Calculated effective sampling rate 459.9489 Hz is different from specified rate 256.0000 Hz.\n",
      "Stream 2: Calculated effective sampling rate 470.8543 Hz is different from specified rate 256.0000 Hz.\n",
      "Stream 2: Calculated effective sampling rate 485.2200 Hz is different from specified rate 256.0000 Hz.\n"
     ]
    },
    {
     "name": "stdout",
     "output_type": "stream",
     "text": [
      "20\n"
     ]
    },
    {
     "name": "stderr",
     "output_type": "stream",
     "text": [
      "Stream 2: Calculated effective sampling rate 471.5687 Hz is different from specified rate 256.0000 Hz.\n",
      "Stream 2: Calculated effective sampling rate 439.5069 Hz is different from specified rate 256.0000 Hz.\n",
      "/var/folders/x4/6xjb_tfs6vdg6llm0_l4vjz00000gn/T/ipykernel_1069/165952213.py:17: RuntimeWarning: Omitted 5 annotation(s) that were outside data range.\n",
      "  mne.io.concatenate_raws([raw, rawi], on_mismatch=\"ignore\")\n",
      "Stream 2: Calculated effective sampling rate 475.3133 Hz is different from specified rate 256.0000 Hz.\n"
     ]
    }
   ],
   "source": [
    "graphs, labels, groups=[],[],[]\n",
    "for pnum in range(1,21):\n",
    "    paraticipant = \"P\"+ str(pnum)\n",
    "    print(pnum) \n",
    "\n",
    "    path ='./'+ paraticipant +'/'\n",
    "    raw = None \n",
    "    for num in range(1,5):\n",
    "        fileNamei = paraticipant +'_b'  + str(num) + \".xdf\"\n",
    "        path_addr = path + fileNamei\n",
    "        if (os.path.exists(path_addr)):\n",
    "            streams = resolve_streams(path_addr)\n",
    "            stream_id = match_streaminfos(streams, [{\"type\": \"EEG\"}])[0]\n",
    "            rawi = read_raw_xdf(path_addr, stream_ids=[stream_id]).resample(250)\n",
    "            \n",
    "            if (raw is not None):\n",
    "                mne.io.concatenate_raws([raw, rawi], on_mismatch=\"ignore\")\n",
    "            else:\n",
    "                raw = rawi  \n",
    "\n",
    "            if (pnum == 13) or (pnum == 19):\n",
    "                raw = None      \n",
    "\n",
    "    if (raw is not None):\n",
    "        graphs_sess1,label_sess1= read_file(raw)\n",
    "        graphs.append(graphs)\n",
    "        labels.append(label_sess1)\n",
    "        groups.append([pnum]*(len(label_sess1)))"
   ]
  },
  {
   "cell_type": "code",
   "execution_count": null,
   "metadata": {},
   "outputs": [],
   "source": [
    "# import numpy as np\n",
    "# data_array=np.concatenate(features)\n",
    "# labels=np.concatenate(labels)\n",
    "# groups=np.concatenate(groups)\n",
    "\n",
    "# features.shape,labels.shape,groups.shape"
   ]
  },
  {
   "cell_type": "code",
   "execution_count": null,
   "metadata": {},
   "outputs": [],
   "source": [
    "graph_array=np.vstack(graphs)"
   ]
  },
  {
   "cell_type": "code",
   "execution_count": 41,
   "metadata": {},
   "outputs": [
    {
     "ename": "NameError",
     "evalue": "name 'graph_array' is not defined",
     "output_type": "error",
     "traceback": [
      "\u001b[0;31m---------------------------------------------------------------------------\u001b[0m",
      "\u001b[0;31mNameError\u001b[0m                                 Traceback (most recent call last)",
      "\u001b[1;32m/Users/erangad/Desktop/NS Project/COSC-521-Project/analysis_incongruent_feature_extraction.ipynb Cell 8\u001b[0m line \u001b[0;36m3\n\u001b[1;32m      <a href='vscode-notebook-cell:/Users/erangad/Desktop/NS%20Project/COSC-521-Project/analysis_incongruent_feature_extraction.ipynb#W6sZmlsZQ%3D%3D?line=0'>1</a>\u001b[0m label_array\u001b[39m=\u001b[39mnp\u001b[39m.\u001b[39mhstack(labels)\n\u001b[1;32m      <a href='vscode-notebook-cell:/Users/erangad/Desktop/NS%20Project/COSC-521-Project/analysis_incongruent_feature_extraction.ipynb#W6sZmlsZQ%3D%3D?line=1'>2</a>\u001b[0m group_array\u001b[39m=\u001b[39mnp\u001b[39m.\u001b[39mhstack(groups)\n\u001b[0;32m----> <a href='vscode-notebook-cell:/Users/erangad/Desktop/NS%20Project/COSC-521-Project/analysis_incongruent_feature_extraction.ipynb#W6sZmlsZQ%3D%3D?line=2'>3</a>\u001b[0m \u001b[39mprint\u001b[39m(graph_array\u001b[39m.\u001b[39mshape,label_array\u001b[39m.\u001b[39mshape,group_array\u001b[39m.\u001b[39mshape)\n",
      "\u001b[0;31mNameError\u001b[0m: name 'graph_array' is not defined"
     ]
    }
   ],
   "source": [
    "\n",
    "label_array=np.hstack(labels)\n",
    "group_array=np.hstack(groups)\n",
    "print(graph_array.shape,label_array.shape,group_array.shape)"
   ]
  },
  {
   "cell_type": "code",
   "execution_count": null,
   "metadata": {},
   "outputs": [],
   "source": [
    "with open('incongruent_features_150hz.pickle', 'wb') as output:\n",
    "    pickle.dump(data_array, output)\n",
    "\n",
    "\n",
    "with open('incongruent_label_150hzs.pickle', 'wb') as output:\n",
    "    pickle.dump(label_array, output)\n",
    "\n",
    "\n",
    "with open('incongruent_group_150hzs.pickle', 'wb') as output:\n",
    "    pickle.dump(group_array, output)    \n",
    "\n",
    "\n"
   ]
  },
  {
   "cell_type": "code",
   "execution_count": null,
   "metadata": {},
   "outputs": [
    {
     "data": {
      "text/plain": [
       "array([ 1.,  2.,  3.,  4.,  5.,  6.,  7.,  8.,  9., 10., 11., 12., 14.,\n",
       "       15., 16., 17., 18., 20.])"
      ]
     },
     "execution_count": 8,
     "metadata": {},
     "output_type": "execute_result"
    }
   ],
   "source": [
    "np.unique(group_array, axis=0)"
   ]
  },
  {
   "attachments": {},
   "cell_type": "markdown",
   "metadata": {},
   "source": [
    "LR"
   ]
  },
  {
   "cell_type": "code",
   "execution_count": null,
   "metadata": {},
   "outputs": [],
   "source": [
    "from scipy import stats\n",
    "def mean(data):\n",
    "    return np.mean(data,axis=-1)\n",
    "    \n",
    "def std(data):\n",
    "    return np.std(data,axis=-1)\n",
    "\n",
    "def ptp(data):\n",
    "    return np.ptp(data,axis=-1)\n",
    "\n",
    "def var(data):\n",
    "        return np.var(data,axis=-1)\n",
    "\n",
    "def minim(data):\n",
    "      return np.min(data,axis=-1)\n",
    "\n",
    "\n",
    "def maxim(data):\n",
    "      return np.max(data,axis=-1)\n",
    "\n",
    "def argminim(data):\n",
    "      return np.argmin(data,axis=-1)\n",
    "\n",
    "\n",
    "def argmaxim(data):\n",
    "      return np.argmax(data,axis=-1)\n",
    "\n",
    "def mean_square(data):\n",
    "      return np.mean(data**2,axis=-1)\n",
    "\n",
    "def rms(data): #root mean square\n",
    "      return  np.sqrt(np.mean(data**2,axis=-1))  \n",
    "\n",
    "def abs_diffs_signal(data):\n",
    "    return np.sum(np.abs(np.diff(data,axis=-1)),axis=-1)\n",
    "\n",
    "\n",
    "def skewness(data):\n",
    "    return stats.skew(data,axis=-1)\n",
    "\n",
    "def kurtosis(data):\n",
    "    return stats.kurtosis(data,axis=-1)\n",
    "\n",
    "def concatenate_features(data):\n",
    "    return np.concatenate((mean(data),std(data),ptp(data),var(data),minim(data),maxim(data),argminim(data),argmaxim(data),\n",
    "                          mean_square(data),rms(data),abs_diffs_signal(data),\n",
    "                          skewness(data),kurtosis(data)),axis=-1)"
   ]
  },
  {
   "cell_type": "code",
   "execution_count": null,
   "metadata": {},
   "outputs": [
    {
     "name": "stderr",
     "output_type": "stream",
     "text": [
      "C:\\Users\\erang\\AppData\\Local\\Temp\\ipykernel_12504\\3783067424.py:3: TqdmDeprecationWarning: This function will be removed in tqdm==5.0.0\n",
      "Please use `tqdm.notebook.tqdm` instead of `tqdm.tqdm_notebook`\n",
      "  for data in tqdm_notebook(data_array):\n"
     ]
    },
    {
     "data": {
      "application/vnd.jupyter.widget-view+json": {
       "model_id": "f761f03c3e8c46c889d3385aef001be5",
       "version_major": 2,
       "version_minor": 0
      },
      "text/plain": [
       "  0%|          | 0/878 [00:00<?, ?it/s]"
      ]
     },
     "metadata": {},
     "output_type": "display_data"
    },
    {
     "data": {
      "text/plain": [
       "(878, 52)"
      ]
     },
     "execution_count": 10,
     "metadata": {},
     "output_type": "execute_result"
    }
   ],
   "source": [
    "from tqdm import tqdm_notebook\n",
    "features=[]\n",
    "for data in tqdm_notebook(data_array):\n",
    "    features.append(concatenate_features(data))\n",
    "features=np.array(features)\n",
    "features.shape"
   ]
  },
  {
   "cell_type": "code",
   "execution_count": null,
   "metadata": {},
   "outputs": [],
   "source": [
    "from sklearn.linear_model import LogisticRegression\n",
    "from sklearn import svm\n",
    "from sklearn.pipeline import Pipeline\n",
    "from sklearn.preprocessing import StandardScaler\n",
    "from sklearn.model_selection import GroupKFold,GridSearchCV,cross_val_score,cross_validate "
   ]
  },
  {
   "cell_type": "code",
   "execution_count": null,
   "metadata": {},
   "outputs": [
    {
     "name": "stderr",
     "output_type": "stream",
     "text": [
      "\n",
      "KeyboardInterrupt\n",
      "\n"
     ]
    }
   ],
   "source": [
    "from sklearn.model_selection import LeaveOneGroupOut\n",
    "clf=LogisticRegression()\n",
    "# gkf=GroupKFold(n_splits=5)\n",
    "logo = LeaveOneGroupOut()\n",
    "# logo.split(data_array, label_array, groups=group_array):\n",
    "param_grid = {'classifier__C': [0.001, 0.005, 0.01,0.05,0.1,0.5, 1,2,3,4,5,8, 10,12,15]}\n",
    "pipe=Pipeline([('scaler',StandardScaler()),('classifier',clf)])\n",
    "gscv=GridSearchCV(pipe,param_grid,cv=logo,n_jobs=16)\n",
    "gscv.fit(features,label_array,groups=group_array)"
   ]
  },
  {
   "cell_type": "code",
   "execution_count": null,
   "metadata": {},
   "outputs": [
    {
     "name": "stderr",
     "output_type": "stream",
     "text": [
      "c:\\Users\\erang\\.conda\\envs\\env\\lib\\site-packages\\mne_features\\utils.py:21: NumbaDeprecationWarning: \u001b[1mThe 'nopython' keyword argument was not supplied to the 'numba.jit' decorator. The implicit default value for this argument is currently False, but it will be changed to True in Numba 0.59.0. See https://numba.readthedocs.io/en/stable/reference/deprecation.html#deprecation-of-object-mode-fall-back-behaviour-when-using-jit for details.\u001b[0m\n",
      "  @nb.jit()\n"
     ]
    }
   ],
   "source": [
    "from mne_features.feature_extraction import FeatureExtractor\n",
    "selected_funcs = ['pow_freq_bands', 'line_length', 'kurtosis', 'ptp_amp', 'skewness']\n",
    "# fe = FeatureExtractor(sfreq=256, selected_funcs=selected_funcs)\n",
    "\n",
    "pipe = Pipeline([('fe', FeatureExtractor(sfreq=256,\n",
    "                                         selected_funcs=selected_funcs)),\n",
    "                                           ('scaler', StandardScaler()),\n",
    "                 ('classifier', clf)])\n",
    "logo = LeaveOneGroupOut()\n",
    "param_grid = {'classifier__C': [0.01,0.05,0.1,0.5, 1,2,3,4,5,8, 10,12,15]}\n",
    "gscv=GridSearchCV(pipe,param_grid,cv=logo,n_jobs=16)\n",
    "gscv.fit(data_array,label_array,groups=group_array)\n",
    "\n",
    "\n"
   ]
  },
  {
   "cell_type": "code",
   "execution_count": null,
   "metadata": {},
   "outputs": [
    {
     "data": {
      "text/html": [
       "<style>#sk-container-id-10 {color: black;background-color: white;}#sk-container-id-10 pre{padding: 0;}#sk-container-id-10 div.sk-toggleable {background-color: white;}#sk-container-id-10 label.sk-toggleable__label {cursor: pointer;display: block;width: 100%;margin-bottom: 0;padding: 0.3em;box-sizing: border-box;text-align: center;}#sk-container-id-10 label.sk-toggleable__label-arrow:before {content: \"▸\";float: left;margin-right: 0.25em;color: #696969;}#sk-container-id-10 label.sk-toggleable__label-arrow:hover:before {color: black;}#sk-container-id-10 div.sk-estimator:hover label.sk-toggleable__label-arrow:before {color: black;}#sk-container-id-10 div.sk-toggleable__content {max-height: 0;max-width: 0;overflow: hidden;text-align: left;background-color: #f0f8ff;}#sk-container-id-10 div.sk-toggleable__content pre {margin: 0.2em;color: black;border-radius: 0.25em;background-color: #f0f8ff;}#sk-container-id-10 input.sk-toggleable__control:checked~div.sk-toggleable__content {max-height: 200px;max-width: 100%;overflow: auto;}#sk-container-id-10 input.sk-toggleable__control:checked~label.sk-toggleable__label-arrow:before {content: \"▾\";}#sk-container-id-10 div.sk-estimator input.sk-toggleable__control:checked~label.sk-toggleable__label {background-color: #d4ebff;}#sk-container-id-10 div.sk-label input.sk-toggleable__control:checked~label.sk-toggleable__label {background-color: #d4ebff;}#sk-container-id-10 input.sk-hidden--visually {border: 0;clip: rect(1px 1px 1px 1px);clip: rect(1px, 1px, 1px, 1px);height: 1px;margin: -1px;overflow: hidden;padding: 0;position: absolute;width: 1px;}#sk-container-id-10 div.sk-estimator {font-family: monospace;background-color: #f0f8ff;border: 1px dotted black;border-radius: 0.25em;box-sizing: border-box;margin-bottom: 0.5em;}#sk-container-id-10 div.sk-estimator:hover {background-color: #d4ebff;}#sk-container-id-10 div.sk-parallel-item::after {content: \"\";width: 100%;border-bottom: 1px solid gray;flex-grow: 1;}#sk-container-id-10 div.sk-label:hover label.sk-toggleable__label {background-color: #d4ebff;}#sk-container-id-10 div.sk-serial::before {content: \"\";position: absolute;border-left: 1px solid gray;box-sizing: border-box;top: 0;bottom: 0;left: 50%;z-index: 0;}#sk-container-id-10 div.sk-serial {display: flex;flex-direction: column;align-items: center;background-color: white;padding-right: 0.2em;padding-left: 0.2em;position: relative;}#sk-container-id-10 div.sk-item {position: relative;z-index: 1;}#sk-container-id-10 div.sk-parallel {display: flex;align-items: stretch;justify-content: center;background-color: white;position: relative;}#sk-container-id-10 div.sk-item::before, #sk-container-id-10 div.sk-parallel-item::before {content: \"\";position: absolute;border-left: 1px solid gray;box-sizing: border-box;top: 0;bottom: 0;left: 50%;z-index: -1;}#sk-container-id-10 div.sk-parallel-item {display: flex;flex-direction: column;z-index: 1;position: relative;background-color: white;}#sk-container-id-10 div.sk-parallel-item:first-child::after {align-self: flex-end;width: 50%;}#sk-container-id-10 div.sk-parallel-item:last-child::after {align-self: flex-start;width: 50%;}#sk-container-id-10 div.sk-parallel-item:only-child::after {width: 0;}#sk-container-id-10 div.sk-dashed-wrapped {border: 1px dashed gray;margin: 0 0.4em 0.5em 0.4em;box-sizing: border-box;padding-bottom: 0.4em;background-color: white;}#sk-container-id-10 div.sk-label label {font-family: monospace;font-weight: bold;display: inline-block;line-height: 1.2em;}#sk-container-id-10 div.sk-label-container {text-align: center;}#sk-container-id-10 div.sk-container {/* jupyter's `normalize.less` sets `[hidden] { display: none; }` but bootstrap.min.css set `[hidden] { display: none !important; }` so we also need the `!important` here to be able to override the default hidden behavior on the sphinx rendered scikit-learn.org. See: https://github.com/scikit-learn/scikit-learn/issues/21755 */display: inline-block !important;position: relative;}#sk-container-id-10 div.sk-text-repr-fallback {display: none;}</style><div id=\"sk-container-id-10\" class=\"sk-top-container\"><div class=\"sk-text-repr-fallback\"><pre>GridSearchCV(cv=LeaveOneGroupOut(),\n",
       "             estimator=Pipeline(steps=[(&#x27;fe&#x27;,\n",
       "                                        FeatureExtractor(selected_funcs=[&#x27;pow_freq_bands&#x27;,\n",
       "                                                                         &#x27;line_length&#x27;,\n",
       "                                                                         &#x27;kurtosis&#x27;,\n",
       "                                                                         &#x27;ptp_amp&#x27;,\n",
       "                                                                         &#x27;skewness&#x27;],\n",
       "                                                         sfreq=256)),\n",
       "                                       (&#x27;scaler&#x27;, StandardScaler()),\n",
       "                                       (&#x27;classifier&#x27;, SVC())]),\n",
       "             n_jobs=16,\n",
       "             param_grid={&#x27;classifier__C&#x27;: [0.1, 1, 10, 100, 1000],\n",
       "                         &#x27;classifier__gamma&#x27;: [1, 0.1, 0.01, 0.001, 0.0001],\n",
       "                         &#x27;classifier__kernel&#x27;: [&#x27;rbf&#x27;]})</pre><b>In a Jupyter environment, please rerun this cell to show the HTML representation or trust the notebook. <br />On GitHub, the HTML representation is unable to render, please try loading this page with nbviewer.org.</b></div><div class=\"sk-container\" hidden><div class=\"sk-item sk-dashed-wrapped\"><div class=\"sk-label-container\"><div class=\"sk-label sk-toggleable\"><input class=\"sk-toggleable__control sk-hidden--visually\" id=\"sk-estimator-id-41\" type=\"checkbox\" ><label for=\"sk-estimator-id-41\" class=\"sk-toggleable__label sk-toggleable__label-arrow\">GridSearchCV</label><div class=\"sk-toggleable__content\"><pre>GridSearchCV(cv=LeaveOneGroupOut(),\n",
       "             estimator=Pipeline(steps=[(&#x27;fe&#x27;,\n",
       "                                        FeatureExtractor(selected_funcs=[&#x27;pow_freq_bands&#x27;,\n",
       "                                                                         &#x27;line_length&#x27;,\n",
       "                                                                         &#x27;kurtosis&#x27;,\n",
       "                                                                         &#x27;ptp_amp&#x27;,\n",
       "                                                                         &#x27;skewness&#x27;],\n",
       "                                                         sfreq=256)),\n",
       "                                       (&#x27;scaler&#x27;, StandardScaler()),\n",
       "                                       (&#x27;classifier&#x27;, SVC())]),\n",
       "             n_jobs=16,\n",
       "             param_grid={&#x27;classifier__C&#x27;: [0.1, 1, 10, 100, 1000],\n",
       "                         &#x27;classifier__gamma&#x27;: [1, 0.1, 0.01, 0.001, 0.0001],\n",
       "                         &#x27;classifier__kernel&#x27;: [&#x27;rbf&#x27;]})</pre></div></div></div><div class=\"sk-parallel\"><div class=\"sk-parallel-item\"><div class=\"sk-item\"><div class=\"sk-label-container\"><div class=\"sk-label sk-toggleable\"><input class=\"sk-toggleable__control sk-hidden--visually\" id=\"sk-estimator-id-42\" type=\"checkbox\" ><label for=\"sk-estimator-id-42\" class=\"sk-toggleable__label sk-toggleable__label-arrow\">estimator: Pipeline</label><div class=\"sk-toggleable__content\"><pre>Pipeline(steps=[(&#x27;fe&#x27;,\n",
       "                 FeatureExtractor(selected_funcs=[&#x27;pow_freq_bands&#x27;,\n",
       "                                                  &#x27;line_length&#x27;, &#x27;kurtosis&#x27;,\n",
       "                                                  &#x27;ptp_amp&#x27;, &#x27;skewness&#x27;],\n",
       "                                  sfreq=256)),\n",
       "                (&#x27;scaler&#x27;, StandardScaler()), (&#x27;classifier&#x27;, SVC())])</pre></div></div></div><div class=\"sk-serial\"><div class=\"sk-item\"><div class=\"sk-serial\"><div class=\"sk-item\"><div class=\"sk-estimator sk-toggleable\"><input class=\"sk-toggleable__control sk-hidden--visually\" id=\"sk-estimator-id-43\" type=\"checkbox\" ><label for=\"sk-estimator-id-43\" class=\"sk-toggleable__label sk-toggleable__label-arrow\">FeatureExtractor</label><div class=\"sk-toggleable__content\"><pre>FeatureExtractor(selected_funcs=[&#x27;pow_freq_bands&#x27;, &#x27;line_length&#x27;, &#x27;kurtosis&#x27;,\n",
       "                                 &#x27;ptp_amp&#x27;, &#x27;skewness&#x27;],\n",
       "                 sfreq=256)</pre></div></div></div><div class=\"sk-item\"><div class=\"sk-estimator sk-toggleable\"><input class=\"sk-toggleable__control sk-hidden--visually\" id=\"sk-estimator-id-44\" type=\"checkbox\" ><label for=\"sk-estimator-id-44\" class=\"sk-toggleable__label sk-toggleable__label-arrow\">StandardScaler</label><div class=\"sk-toggleable__content\"><pre>StandardScaler()</pre></div></div></div><div class=\"sk-item\"><div class=\"sk-estimator sk-toggleable\"><input class=\"sk-toggleable__control sk-hidden--visually\" id=\"sk-estimator-id-45\" type=\"checkbox\" ><label for=\"sk-estimator-id-45\" class=\"sk-toggleable__label sk-toggleable__label-arrow\">SVC</label><div class=\"sk-toggleable__content\"><pre>SVC()</pre></div></div></div></div></div></div></div></div></div></div></div></div>"
      ],
      "text/plain": [
       "GridSearchCV(cv=LeaveOneGroupOut(),\n",
       "             estimator=Pipeline(steps=[('fe',\n",
       "                                        FeatureExtractor(selected_funcs=['pow_freq_bands',\n",
       "                                                                         'line_length',\n",
       "                                                                         'kurtosis',\n",
       "                                                                         'ptp_amp',\n",
       "                                                                         'skewness'],\n",
       "                                                         sfreq=256)),\n",
       "                                       ('scaler', StandardScaler()),\n",
       "                                       ('classifier', SVC())]),\n",
       "             n_jobs=16,\n",
       "             param_grid={'classifier__C': [0.1, 1, 10, 100, 1000],\n",
       "                         'classifier__gamma': [1, 0.1, 0.01, 0.001, 0.0001],\n",
       "                         'classifier__kernel': ['rbf']})"
      ]
     },
     "execution_count": 81,
     "metadata": {},
     "output_type": "execute_result"
    }
   ],
   "source": [
    "from sklearn.svm import SVC\n",
    "param_grid = {'classifier__C': [0.1, 1, 10, 100, 1000], \n",
    "              'classifier__gamma': [1, 0.1, 0.01, 0.001, 0.0001],\n",
    "              'classifier__kernel': ['rbf']} \n",
    "selected_funcs = ['pow_freq_bands', 'line_length', 'kurtosis', 'ptp_amp', 'skewness']\n",
    "\n",
    "pipe = Pipeline([('fe', FeatureExtractor(sfreq=256,\n",
    "                                         selected_funcs=selected_funcs)),\n",
    "                                           ('scaler', StandardScaler()),\n",
    "                 ('classifier', SVC())])\n",
    "logo = LeaveOneGroupOut()\n",
    "gscv=GridSearchCV(pipe,param_grid,cv=logo,n_jobs=16)\n",
    "gscv.fit(data_array,label_array,groups=group_array)"
   ]
  },
  {
   "cell_type": "code",
   "execution_count": null,
   "metadata": {},
   "outputs": [
    {
     "data": {
      "text/plain": [
       "(1546, 20)"
      ]
     },
     "execution_count": 45,
     "metadata": {},
     "output_type": "execute_result"
    }
   ],
   "source": [
    "X.shape"
   ]
  },
  {
   "cell_type": "code",
   "execution_count": null,
   "metadata": {},
   "outputs": [
    {
     "data": {
      "text/plain": [
       "0.4972497065171553"
      ]
     },
     "execution_count": 82,
     "metadata": {},
     "output_type": "execute_result"
    }
   ],
   "source": [
    "gscv.best_score_"
   ]
  },
  {
   "cell_type": "code",
   "execution_count": null,
   "metadata": {},
   "outputs": [],
   "source": [
    "from sklearn.svm import SVC\n",
    "param_grid = {'classifier__C': [0.1, 1, 10, 100, 1000], \n",
    "              'classifier__gamma': [1, 0.1, 0.01, 0.001, 0.0001],\n",
    "              'classifier__kernel': ['rbf']} \n",
    "selected_funcs = ['pow_freq_bands']\n",
    "\n",
    "pipe = Pipeline([('fe', FeatureExtractor(sfreq=256,\n",
    "                                         selected_funcs=selected_funcs)),\n",
    "                                           ('scaler', StandardScaler()),\n",
    "                 ('classifier', SVC())])\n",
    "logo = LeaveOneGroupOut()\n",
    "gscv=GridSearchCV(pipe,param_grid,cv=logo,n_jobs=16)\n",
    "gscv.fit(data_array,label_array,groups=group_array)"
   ]
  },
  {
   "cell_type": "code",
   "execution_count": null,
   "metadata": {},
   "outputs": [
    {
     "data": {
      "text/plain": [
       "{'classifier__C': 0.1, 'classifier__gamma': 1, 'classifier__kernel': 'rbf'}"
      ]
     },
     "execution_count": 67,
     "metadata": {},
     "output_type": "execute_result"
    }
   ],
   "source": [
    "gscv.best_params_"
   ]
  },
  {
   "cell_type": "code",
   "execution_count": null,
   "metadata": {},
   "outputs": [],
   "source": [
    "# np.unique(labels) #7 left 8 right"
   ]
  },
  {
   "cell_type": "code",
   "execution_count": null,
   "metadata": {},
   "outputs": [
    {
     "name": "stderr",
     "output_type": "stream",
     "text": [
      "c:\\Users\\erang\\.conda\\envs\\env\\lib\\site-packages\\numpy\\lib\\arraysetops.py:272: VisibleDeprecationWarning: Creating an ndarray from ragged nested sequences (which is a list-or-tuple of lists-or-tuples-or ndarrays with different lengths or shapes) is deprecated. If you meant to do this, you must specify 'dtype=object' when creating the ndarray.\n",
      "  ar = np.asanyarray(ar)\n"
     ]
    },
    {
     "data": {
      "text/plain": [
       "(array([list([1, 1, 1, 1, 1, 1, 1, 1, 1, 1, 1, 1, 1, 1, 1, 1, 1, 1, 1, 1, 1, 1, 1, 1, 1, 1, 1, 1, 1, 1, 1, 1, 1, 1, 1, 1, 1, 1, 1, 1, 1, 1, 1, 1, 1, 1, 1, 1, 1, 1, 1, 1, 1, 1, 1, 1, 1, 1, 1, 1, 1, 1, 1, 1, 1, 1, 1, 1, 1, 1, 1, 1, 1, 1, 1, 1, 1, 1, 1, 1, 1, 1, 1, 1, 1, 1, 1, 1, 1, 1, 1, 1, 1, 1, 1]),\n",
       "        list([2, 2, 2, 2, 2, 2, 2, 2, 2, 2, 2, 2, 2, 2, 2, 2, 2, 2, 2, 2, 2, 2, 2, 2, 2, 2, 2, 2, 2, 2, 2, 2, 2, 2, 2, 2, 2, 2, 2, 2, 2, 2, 2, 2, 2, 2, 2, 2, 2, 2, 2, 2, 2, 2, 2, 2, 2, 2, 2, 2, 2, 2, 2, 2, 2, 2, 2, 2, 2, 2, 2, 2, 2, 2, 2, 2, 2, 2, 2, 2, 2, 2, 2, 2, 2, 2, 2, 2]),\n",
       "        list([3, 3, 3, 3, 3, 3, 3, 3, 3, 3, 3, 3, 3, 3, 3, 3, 3, 3, 3, 3, 3, 3, 3, 3, 3, 3, 3, 3, 3, 3, 3, 3, 3, 3, 3, 3, 3, 3, 3, 3, 3, 3, 3, 3, 3, 3, 3, 3, 3, 3, 3, 3, 3, 3, 3, 3, 3, 3, 3, 3, 3, 3, 3, 3, 3, 3, 3, 3, 3, 3, 3, 3, 3, 3, 3, 3, 3, 3, 3, 3, 3, 3, 3, 3, 3, 3, 3, 3, 3, 3, 3]),\n",
       "        list([4, 4, 4, 4, 4, 4, 4, 4, 4, 4, 4, 4, 4, 4, 4, 4, 4, 4, 4, 4, 4, 4, 4, 4, 4, 4, 4, 4, 4, 4, 4, 4, 4, 4, 4, 4, 4, 4, 4, 4, 4, 4, 4, 4, 4, 4, 4, 4, 4, 4, 4, 4, 4, 4, 4, 4, 4, 4, 4, 4, 4, 4, 4, 4, 4, 4, 4, 4, 4, 4, 4, 4, 4, 4, 4, 4, 4, 4, 4, 4, 4, 4, 4, 4, 4, 4, 4, 4, 4, 4, 4, 4, 4, 4, 4, 4]),\n",
       "        list([5, 5, 5, 5, 5, 5, 5, 5, 5, 5, 5, 5, 5, 5, 5, 5, 5, 5, 5, 5, 5, 5, 5, 5, 5, 5, 5, 5, 5, 5, 5, 5, 5, 5, 5, 5, 5, 5, 5, 5, 5, 5, 5, 5, 5, 5, 5, 5, 5, 5, 5, 5, 5, 5, 5, 5, 5, 5, 5, 5, 5, 5, 5, 5, 5, 5, 5, 5, 5, 5, 5, 5, 5, 5, 5, 5, 5, 5, 5, 5, 5, 5, 5, 5, 5, 5, 5, 5, 5, 5, 5, 5, 5, 5, 5]),\n",
       "        list([6, 6, 6, 6, 6, 6, 6, 6, 6, 6, 6, 6, 6, 6, 6, 6, 6, 6, 6, 6, 6, 6, 6, 6, 6, 6, 6, 6, 6, 6, 6, 6, 6, 6, 6, 6, 6, 6, 6, 6, 6, 6, 6, 6, 6, 6, 6, 6, 6, 6, 6, 6, 6, 6, 6, 6, 6, 6, 6, 6, 6, 6, 6, 6, 6, 6, 6, 6, 6, 6, 6, 6, 6, 6, 6, 6, 6, 6, 6, 6, 6, 6, 6, 6, 6, 6, 6, 6, 6, 6, 6, 6, 6]),\n",
       "        list([7, 7, 7, 7, 7, 7, 7, 7, 7, 7, 7, 7, 7, 7, 7, 7, 7, 7, 7, 7, 7, 7, 7, 7, 7, 7, 7, 7, 7, 7, 7, 7, 7, 7, 7, 7, 7, 7, 7, 7, 7, 7, 7, 7, 7, 7, 7, 7, 7, 7, 7, 7, 7, 7, 7, 7, 7, 7, 7, 7, 7, 7, 7, 7]),\n",
       "        list([8, 8, 8, 8, 8, 8, 8, 8, 8, 8, 8, 8, 8, 8, 8, 8, 8, 8, 8, 8, 8, 8, 8, 8, 8, 8, 8, 8, 8, 8, 8, 8, 8, 8, 8, 8, 8, 8, 8, 8, 8, 8, 8, 8, 8, 8, 8, 8, 8, 8, 8, 8, 8, 8, 8, 8, 8, 8, 8, 8, 8, 8, 8, 8, 8, 8, 8, 8, 8, 8, 8, 8, 8, 8, 8, 8, 8, 8, 8, 8, 8, 8, 8, 8, 8, 8, 8, 8, 8, 8, 8, 8, 8, 8]),\n",
       "        list([9, 9, 9, 9, 9, 9, 9, 9, 9, 9, 9, 9, 9, 9, 9, 9, 9, 9, 9, 9, 9, 9, 9, 9, 9, 9, 9, 9, 9, 9, 9, 9, 9, 9, 9, 9, 9, 9, 9, 9, 9, 9, 9, 9, 9, 9, 9, 9, 9, 9, 9, 9, 9, 9, 9, 9, 9, 9, 9, 9, 9, 9, 9, 9, 9, 9, 9, 9, 9, 9, 9, 9, 9, 9, 9, 9, 9, 9, 9, 9, 9, 9, 9, 9, 9, 9, 9, 9]),\n",
       "        list([10, 10, 10, 10, 10, 10, 10, 10, 10, 10, 10, 10, 10, 10, 10, 10, 10, 10, 10, 10, 10, 10, 10, 10, 10, 10, 10, 10, 10, 10, 10, 10, 10, 10, 10, 10, 10, 10, 10, 10, 10, 10, 10, 10, 10, 10, 10, 10, 10, 10, 10, 10, 10, 10, 10, 10, 10, 10, 10, 10, 10, 10, 10, 10, 10, 10, 10, 10, 10, 10, 10, 10, 10, 10, 10, 10, 10, 10, 10, 10, 10, 10, 10, 10, 10, 10, 10, 10, 10, 10, 10, 10, 10]),\n",
       "        list([11, 11, 11, 11, 11, 11, 11, 11, 11, 11, 11, 11, 11, 11, 11, 11, 11, 11, 11, 11, 11, 11, 11, 11, 11, 11, 11, 11, 11, 11, 11, 11, 11, 11, 11, 11, 11, 11, 11, 11, 11, 11, 11, 11, 11, 11, 11, 11, 11, 11, 11, 11, 11, 11, 11, 11, 11, 11, 11, 11, 11, 11, 11, 11, 11, 11, 11, 11, 11, 11, 11, 11, 11, 11, 11, 11, 11, 11]),\n",
       "        list([12, 12, 12, 12, 12, 12, 12, 12, 12, 12, 12, 12, 12, 12, 12, 12, 12, 12, 12, 12, 12, 12, 12, 12, 12, 12, 12, 12, 12, 12, 12, 12, 12, 12, 12, 12, 12, 12, 12, 12, 12, 12, 12, 12, 12, 12, 12, 12, 12, 12, 12, 12]),\n",
       "        list([13, 13, 13, 13, 13, 13, 13, 13, 13, 13, 13, 13, 13, 13, 13, 13, 13, 13, 13, 13, 13, 13, 13, 13, 13, 13, 13, 13, 13, 13, 13, 13, 13, 13, 13, 13, 13, 13, 13, 13, 13, 13, 13, 13, 13, 13, 13, 13, 13, 13, 13, 13, 13, 13, 13, 13, 13, 13, 13, 13, 13, 13, 13, 13, 13, 13, 13, 13, 13, 13, 13, 13, 13, 13, 13, 13, 13]),\n",
       "        list([14, 14, 14, 14, 14, 14, 14, 14, 14, 14, 14, 14, 14, 14, 14, 14, 14, 14, 14, 14, 14, 14, 14, 14, 14, 14, 14, 14, 14, 14, 14, 14, 14, 14, 14, 14, 14, 14, 14, 14, 14, 14, 14, 14, 14, 14, 14, 14, 14, 14, 14, 14, 14, 14, 14, 14, 14, 14, 14, 14, 14, 14, 14, 14, 14, 14, 14, 14, 14, 14, 14, 14, 14, 14, 14, 14, 14, 14, 14, 14, 14, 14, 14, 14, 14, 14, 14, 14, 14, 14, 14, 14, 14, 14, 14]),\n",
       "        list([15, 15, 15, 15, 15, 15, 15, 15, 15, 15, 15, 15, 15, 15, 15, 15, 15, 15, 15, 15, 15, 15, 15, 15, 15, 15, 15, 15, 15, 15, 15, 15, 15, 15, 15, 15, 15, 15, 15, 15, 15, 15, 15, 15, 15, 15, 15, 15, 15, 15, 15, 15, 15, 15, 15, 15, 15, 15, 15, 15, 15, 15, 15, 15, 15, 15, 15, 15, 15, 15, 15, 15, 15, 15, 15, 15, 15, 15, 15, 15, 15, 15, 15, 15, 15, 15, 15]),\n",
       "        list([16, 16, 16, 16, 16, 16, 16, 16, 16, 16, 16, 16, 16, 16, 16, 16, 16, 16, 16, 16, 16, 16, 16, 16, 16, 16, 16, 16, 16, 16, 16, 16, 16, 16, 16, 16, 16, 16, 16, 16, 16, 16, 16, 16, 16, 16, 16, 16, 16, 16, 16, 16, 16, 16, 16, 16, 16, 16, 16, 16, 16, 16, 16, 16, 16, 16, 16, 16, 16, 16, 16, 16, 16, 16, 16, 16, 16, 16]),\n",
       "        list([17, 17, 17, 17, 17, 17, 17, 17, 17, 17, 17, 17, 17, 17, 17, 17, 17, 17, 17, 17, 17, 17, 17, 17, 17, 17, 17, 17, 17, 17, 17, 17, 17, 17, 17, 17, 17, 17, 17, 17, 17, 17, 17, 17, 17, 17, 17, 17, 17, 17, 17, 17, 17, 17, 17, 17, 17, 17, 17, 17, 17, 17, 17, 17, 17, 17, 17, 17, 17, 17, 17, 17, 17, 17, 17, 17, 17, 17, 17, 17, 17, 17, 17, 17, 17, 17, 17, 17, 17, 17]),\n",
       "        list([18, 18, 18, 18, 18, 18, 18, 18, 18, 18, 18, 18, 18, 18, 18, 18, 18, 18, 18, 18, 18, 18, 18, 18, 18, 18, 18, 18, 18, 18]),\n",
       "        list([19, 19, 19, 19, 19, 19, 19, 19, 19]),\n",
       "        list([20, 20, 20, 20, 20, 20, 20, 20, 20, 20, 20, 20, 20, 20, 20, 20, 20, 20, 20, 20, 20, 20, 20, 20, 20, 20, 20, 20, 20, 20, 20, 20, 20, 20, 20, 20, 20, 20, 20, 20, 20, 20, 20, 20, 20, 20, 20, 20, 20, 20, 20, 20, 20])],\n",
       "       dtype=object),\n",
       " array([1, 1, 1, 1, 1, 1, 1, 1, 1, 1, 1, 1, 1, 1, 1, 1, 1, 1, 1, 1],\n",
       "       dtype=int64))"
      ]
     },
     "execution_count": 40,
     "metadata": {},
     "output_type": "execute_result"
    }
   ],
   "source": [
    "unique, counts = np.unique(groups, return_counts=True)\n",
    "unique, counts"
   ]
  },
  {
   "cell_type": "code",
   "execution_count": null,
   "metadata": {},
   "outputs": [],
   "source": [
    "# gscv.best_score_\n",
    "from sklearn.model_selection import LeaveOneGroupOut\n",
    "logo = LeaveOneGroupOut()\n"
   ]
  },
  {
   "attachments": {},
   "cell_type": "markdown",
   "metadata": {},
   "source": [
    "CNN"
   ]
  },
  {
   "cell_type": "code",
   "execution_count": null,
   "metadata": {},
   "outputs": [
    {
     "name": "stdout",
     "output_type": "stream",
     "text": [
      "(1546, 4, 334)\n",
      "(1546, 334, 4) (1546,) (1546,)\n"
     ]
    }
   ],
   "source": [
    "# data_array=np.vstack(data_array)\n",
    "# label_array=np.hstack(label_array)\n",
    "# group_array=np.hstack(group_array)\n",
    "data_array_dl=np.moveaxis(data_array,1,2)\n",
    "\n",
    "print(data_array.shape)\n",
    "\n",
    "print(data_array_dl.shape,label_array.shape,group_array.shape)"
   ]
  },
  {
   "cell_type": "code",
   "execution_count": null,
   "metadata": {},
   "outputs": [
    {
     "ename": "ValueError",
     "evalue": "cannot reshape array of size 2065456 into shape (4,167,1553)",
     "output_type": "error",
     "traceback": [
      "\u001b[1;31m---------------------------------------------------------------------------\u001b[0m",
      "\u001b[1;31mValueError\u001b[0m                                Traceback (most recent call last)",
      "Cell \u001b[1;32mIn[43], line 1\u001b[0m\n\u001b[1;32m----> 1\u001b[0m reshaped_data \u001b[39m=\u001b[39m  np\u001b[39m.\u001b[39;49mreshape(data_array, (\u001b[39m4\u001b[39;49m, \u001b[39m167\u001b[39;49m,\u001b[39m1553\u001b[39;49m))\n\u001b[0;32m      3\u001b[0m \u001b[39mprint\u001b[39m(data_array\u001b[39m.\u001b[39mshape)\n",
      "File \u001b[1;32m<__array_function__ internals>:180\u001b[0m, in \u001b[0;36mreshape\u001b[1;34m(*args, **kwargs)\u001b[0m\n",
      "File \u001b[1;32mc:\\Users\\erang\\.conda\\envs\\env\\lib\\site-packages\\numpy\\core\\fromnumeric.py:298\u001b[0m, in \u001b[0;36mreshape\u001b[1;34m(a, newshape, order)\u001b[0m\n\u001b[0;32m    198\u001b[0m \u001b[39m@array_function_dispatch\u001b[39m(_reshape_dispatcher)\n\u001b[0;32m    199\u001b[0m \u001b[39mdef\u001b[39;00m \u001b[39mreshape\u001b[39m(a, newshape, order\u001b[39m=\u001b[39m\u001b[39m'\u001b[39m\u001b[39mC\u001b[39m\u001b[39m'\u001b[39m):\n\u001b[0;32m    200\u001b[0m \u001b[39m    \u001b[39m\u001b[39m\"\"\"\u001b[39;00m\n\u001b[0;32m    201\u001b[0m \u001b[39m    Gives a new shape to an array without changing its data.\u001b[39;00m\n\u001b[0;32m    202\u001b[0m \n\u001b[1;32m   (...)\u001b[0m\n\u001b[0;32m    296\u001b[0m \u001b[39m           [5, 6]])\u001b[39;00m\n\u001b[0;32m    297\u001b[0m \u001b[39m    \"\"\"\u001b[39;00m\n\u001b[1;32m--> 298\u001b[0m     \u001b[39mreturn\u001b[39;00m _wrapfunc(a, \u001b[39m'\u001b[39;49m\u001b[39mreshape\u001b[39;49m\u001b[39m'\u001b[39;49m, newshape, order\u001b[39m=\u001b[39;49morder)\n",
      "File \u001b[1;32mc:\\Users\\erang\\.conda\\envs\\env\\lib\\site-packages\\numpy\\core\\fromnumeric.py:57\u001b[0m, in \u001b[0;36m_wrapfunc\u001b[1;34m(obj, method, *args, **kwds)\u001b[0m\n\u001b[0;32m     54\u001b[0m     \u001b[39mreturn\u001b[39;00m _wrapit(obj, method, \u001b[39m*\u001b[39margs, \u001b[39m*\u001b[39m\u001b[39m*\u001b[39mkwds)\n\u001b[0;32m     56\u001b[0m \u001b[39mtry\u001b[39;00m:\n\u001b[1;32m---> 57\u001b[0m     \u001b[39mreturn\u001b[39;00m bound(\u001b[39m*\u001b[39margs, \u001b[39m*\u001b[39m\u001b[39m*\u001b[39mkwds)\n\u001b[0;32m     58\u001b[0m \u001b[39mexcept\u001b[39;00m \u001b[39mTypeError\u001b[39;00m:\n\u001b[0;32m     59\u001b[0m     \u001b[39m# A TypeError occurs if the object does have such a method in its\u001b[39;00m\n\u001b[0;32m     60\u001b[0m     \u001b[39m# class, but its signature is not identical to that of NumPy's. This\u001b[39;00m\n\u001b[1;32m   (...)\u001b[0m\n\u001b[0;32m     64\u001b[0m     \u001b[39m# Call _wrapit from within the except clause to ensure a potential\u001b[39;00m\n\u001b[0;32m     65\u001b[0m     \u001b[39m# exception has a traceback chain.\u001b[39;00m\n\u001b[0;32m     66\u001b[0m     \u001b[39mreturn\u001b[39;00m _wrapit(obj, method, \u001b[39m*\u001b[39margs, \u001b[39m*\u001b[39m\u001b[39m*\u001b[39mkwds)\n",
      "\u001b[1;31mValueError\u001b[0m: cannot reshape array of size 2065456 into shape (4,167,1553)"
     ]
    }
   ],
   "source": [
    "reshaped_data =  np.reshape(data_array, (4, 167,1553))\n",
    "\n",
    "print(data_array.shape)"
   ]
  },
  {
   "cell_type": "code",
   "execution_count": null,
   "metadata": {},
   "outputs": [
    {
     "name": "stdout",
     "output_type": "stream",
     "text": [
      "Epoch 1/20\n",
      "16/16 [==============================] - 1s 30ms/step - loss: 0.6804 - accuracy: 0.4928 - val_loss: 0.7052 - val_accuracy: 0.5000\n",
      "Epoch 2/20\n",
      "16/16 [==============================] - 1s 31ms/step - loss: 0.6820 - accuracy: 0.4928 - val_loss: 0.7050 - val_accuracy: 0.5000\n",
      "Epoch 3/20\n",
      "16/16 [==============================] - 1s 35ms/step - loss: 0.6775 - accuracy: 0.4928 - val_loss: 0.7050 - val_accuracy: 0.5000\n",
      "Epoch 4/20\n",
      "16/16 [==============================] - 1s 33ms/step - loss: 0.6838 - accuracy: 0.4928 - val_loss: 0.7058 - val_accuracy: 0.5000\n",
      "Epoch 5/20\n",
      "16/16 [==============================] - 1s 34ms/step - loss: 0.6803 - accuracy: 0.4928 - val_loss: 0.7067 - val_accuracy: 0.5000\n",
      "Epoch 6/20\n",
      "16/16 [==============================] - 0s 30ms/step - loss: 0.6795 - accuracy: 0.4928 - val_loss: 0.7063 - val_accuracy: 0.5000\n",
      "Epoch 7/20\n",
      "16/16 [==============================] - 0s 29ms/step - loss: 0.6793 - accuracy: 0.4928 - val_loss: 0.7062 - val_accuracy: 0.5000\n",
      "Epoch 8/20\n",
      "16/16 [==============================] - 1s 36ms/step - loss: 0.6809 - accuracy: 0.4928 - val_loss: 0.7070 - val_accuracy: 0.5000\n",
      "Epoch 9/20\n",
      "16/16 [==============================] - 0s 30ms/step - loss: 0.6770 - accuracy: 0.4928 - val_loss: 0.7076 - val_accuracy: 0.5000\n",
      "Epoch 10/20\n",
      "16/16 [==============================] - 0s 27ms/step - loss: 0.6806 - accuracy: 0.4928 - val_loss: 0.7082 - val_accuracy: 0.5000\n",
      "Epoch 11/20\n",
      "16/16 [==============================] - 1s 33ms/step - loss: 0.6793 - accuracy: 0.4928 - val_loss: 0.7086 - val_accuracy: 0.5000\n",
      "Epoch 12/20\n",
      "16/16 [==============================] - 1s 33ms/step - loss: 0.6793 - accuracy: 0.4928 - val_loss: 0.7083 - val_accuracy: 0.5000\n",
      "Epoch 13/20\n",
      "16/16 [==============================] - 0s 31ms/step - loss: 0.6811 - accuracy: 0.4928 - val_loss: 0.7083 - val_accuracy: 0.5000\n",
      "Epoch 14/20\n",
      "16/16 [==============================] - 1s 37ms/step - loss: 0.6794 - accuracy: 0.4928 - val_loss: 0.7084 - val_accuracy: 0.5000\n",
      "Epoch 15/20\n",
      "16/16 [==============================] - 0s 31ms/step - loss: 0.6774 - accuracy: 0.4928 - val_loss: 0.7083 - val_accuracy: 0.5000\n",
      "Epoch 16/20\n",
      "16/16 [==============================] - 0s 31ms/step - loss: 0.6778 - accuracy: 0.4928 - val_loss: 0.7081 - val_accuracy: 0.5000\n",
      "Epoch 17/20\n",
      "16/16 [==============================] - 1s 35ms/step - loss: 0.6784 - accuracy: 0.4928 - val_loss: 0.7083 - val_accuracy: 0.5000\n",
      "Epoch 18/20\n",
      "16/16 [==============================] - 1s 34ms/step - loss: 0.6782 - accuracy: 0.4928 - val_loss: 0.7081 - val_accuracy: 0.5000\n",
      "Epoch 19/20\n",
      "16/16 [==============================] - 0s 28ms/step - loss: 0.6756 - accuracy: 0.4928 - val_loss: 0.7081 - val_accuracy: 0.5000\n",
      "Epoch 20/20\n",
      "16/16 [==============================] - 1s 35ms/step - loss: 0.6806 - accuracy: 0.4928 - val_loss: 0.7077 - val_accuracy: 0.5000\n",
      "3/3 [==============================] - 0s 13ms/step - loss: 0.7077 - accuracy: 0.5000\n",
      "Epoch 1/20\n",
      "16/16 [==============================] - 1s 41ms/step - loss: 0.6810 - accuracy: 0.4922 - val_loss: 0.6755 - val_accuracy: 0.5119\n",
      "Epoch 2/20\n",
      "16/16 [==============================] - 0s 30ms/step - loss: 0.6823 - accuracy: 0.4922 - val_loss: 0.6759 - val_accuracy: 0.5119\n",
      "Epoch 3/20\n",
      "16/16 [==============================] - 0s 26ms/step - loss: 0.6803 - accuracy: 0.4922 - val_loss: 0.6761 - val_accuracy: 0.5119\n",
      "Epoch 4/20\n",
      "16/16 [==============================] - 0s 29ms/step - loss: 0.6847 - accuracy: 0.4922 - val_loss: 0.6771 - val_accuracy: 0.5119\n",
      "Epoch 5/20\n",
      "16/16 [==============================] - 0s 27ms/step - loss: 0.6767 - accuracy: 0.4922 - val_loss: 0.6788 - val_accuracy: 0.5119\n",
      "Epoch 6/20\n",
      "16/16 [==============================] - 0s 31ms/step - loss: 0.6798 - accuracy: 0.4922 - val_loss: 0.6796 - val_accuracy: 0.5119\n",
      "Epoch 7/20\n",
      "16/16 [==============================] - 0s 25ms/step - loss: 0.6788 - accuracy: 0.4922 - val_loss: 0.6813 - val_accuracy: 0.5119\n",
      "Epoch 8/20\n",
      "16/16 [==============================] - 0s 27ms/step - loss: 0.6810 - accuracy: 0.4922 - val_loss: 0.6822 - val_accuracy: 0.5119\n",
      "Epoch 9/20\n",
      "16/16 [==============================] - 0s 25ms/step - loss: 0.6813 - accuracy: 0.4922 - val_loss: 0.6827 - val_accuracy: 0.5119\n",
      "Epoch 10/20\n",
      "16/16 [==============================] - 0s 23ms/step - loss: 0.6796 - accuracy: 0.4922 - val_loss: 0.6829 - val_accuracy: 0.5119\n",
      "Epoch 11/20\n",
      "16/16 [==============================] - 0s 26ms/step - loss: 0.6770 - accuracy: 0.4922 - val_loss: 0.6822 - val_accuracy: 0.5119\n",
      "Epoch 12/20\n",
      "16/16 [==============================] - 0s 24ms/step - loss: 0.6767 - accuracy: 0.4922 - val_loss: 0.6829 - val_accuracy: 0.5119\n",
      "Epoch 13/20\n",
      "16/16 [==============================] - 0s 27ms/step - loss: 0.6790 - accuracy: 0.4922 - val_loss: 0.6835 - val_accuracy: 0.5119\n",
      "Epoch 14/20\n",
      "16/16 [==============================] - 0s 29ms/step - loss: 0.6777 - accuracy: 0.4922 - val_loss: 0.6844 - val_accuracy: 0.5119\n",
      "Epoch 15/20\n",
      "16/16 [==============================] - 0s 28ms/step - loss: 0.6802 - accuracy: 0.4922 - val_loss: 0.6845 - val_accuracy: 0.5119\n",
      "Epoch 16/20\n",
      "16/16 [==============================] - 0s 27ms/step - loss: 0.6773 - accuracy: 0.4922 - val_loss: 0.6846 - val_accuracy: 0.5119\n",
      "Epoch 17/20\n",
      "16/16 [==============================] - 0s 28ms/step - loss: 0.6785 - accuracy: 0.4922 - val_loss: 0.6859 - val_accuracy: 0.5119\n",
      "Epoch 18/20\n",
      "16/16 [==============================] - 0s 26ms/step - loss: 0.6769 - accuracy: 0.4922 - val_loss: 0.6864 - val_accuracy: 0.5119\n",
      "Epoch 19/20\n",
      "16/16 [==============================] - 0s 25ms/step - loss: 0.6787 - accuracy: 0.4922 - val_loss: 0.6867 - val_accuracy: 0.5119\n",
      "Epoch 20/20\n",
      "16/16 [==============================] - 0s 25ms/step - loss: 0.6782 - accuracy: 0.4922 - val_loss: 0.6862 - val_accuracy: 0.5119\n",
      "3/3 [==============================] - 0s 23ms/step - loss: 0.6862 - accuracy: 0.5119\n",
      "Epoch 1/20\n",
      "16/16 [==============================] - 1s 41ms/step - loss: 0.6817 - accuracy: 0.4921 - val_loss: 0.6592 - val_accuracy: 0.5111\n",
      "Epoch 2/20\n",
      "16/16 [==============================] - 0s 25ms/step - loss: 0.6808 - accuracy: 0.4921 - val_loss: 0.6597 - val_accuracy: 0.5111\n",
      "Epoch 3/20\n",
      "16/16 [==============================] - 0s 24ms/step - loss: 0.6818 - accuracy: 0.4921 - val_loss: 0.6622 - val_accuracy: 0.5111\n",
      "Epoch 4/20\n",
      "16/16 [==============================] - 0s 23ms/step - loss: 0.6810 - accuracy: 0.4921 - val_loss: 0.6652 - val_accuracy: 0.5111\n",
      "Epoch 5/20\n",
      "16/16 [==============================] - 0s 25ms/step - loss: 0.6797 - accuracy: 0.4921 - val_loss: 0.6664 - val_accuracy: 0.5111\n",
      "Epoch 6/20\n",
      "16/16 [==============================] - 0s 24ms/step - loss: 0.6767 - accuracy: 0.4921 - val_loss: 0.6670 - val_accuracy: 0.5111\n",
      "Epoch 7/20\n",
      "16/16 [==============================] - 0s 26ms/step - loss: 0.6758 - accuracy: 0.4921 - val_loss: 0.6678 - val_accuracy: 0.5111\n",
      "Epoch 8/20\n",
      "16/16 [==============================] - 1s 32ms/step - loss: 0.6781 - accuracy: 0.4921 - val_loss: 0.6693 - val_accuracy: 0.5111\n",
      "Epoch 9/20\n",
      "16/16 [==============================] - 0s 23ms/step - loss: 0.6768 - accuracy: 0.4921 - val_loss: 0.6697 - val_accuracy: 0.5111\n",
      "Epoch 10/20\n",
      "16/16 [==============================] - 0s 28ms/step - loss: 0.6783 - accuracy: 0.4921 - val_loss: 0.6698 - val_accuracy: 0.5111\n",
      "Epoch 11/20\n",
      "16/16 [==============================] - 0s 24ms/step - loss: 0.6808 - accuracy: 0.4921 - val_loss: 0.6693 - val_accuracy: 0.5111\n",
      "Epoch 12/20\n",
      "16/16 [==============================] - 0s 24ms/step - loss: 0.6794 - accuracy: 0.4921 - val_loss: 0.6717 - val_accuracy: 0.5111\n",
      "Epoch 13/20\n",
      "16/16 [==============================] - 0s 24ms/step - loss: 0.6749 - accuracy: 0.4921 - val_loss: 0.6720 - val_accuracy: 0.5111\n",
      "Epoch 14/20\n",
      "16/16 [==============================] - 0s 24ms/step - loss: 0.6798 - accuracy: 0.4921 - val_loss: 0.6728 - val_accuracy: 0.5111\n",
      "Epoch 15/20\n",
      "16/16 [==============================] - 0s 25ms/step - loss: 0.6787 - accuracy: 0.4921 - val_loss: 0.6747 - val_accuracy: 0.5111\n",
      "Epoch 16/20\n",
      "16/16 [==============================] - 0s 25ms/step - loss: 0.6784 - accuracy: 0.4921 - val_loss: 0.6760 - val_accuracy: 0.5111\n",
      "Epoch 17/20\n",
      "16/16 [==============================] - 1s 35ms/step - loss: 0.6761 - accuracy: 0.4921 - val_loss: 0.6754 - val_accuracy: 0.5111\n",
      "Epoch 18/20\n",
      "16/16 [==============================] - 0s 26ms/step - loss: 0.6769 - accuracy: 0.4921 - val_loss: 0.6776 - val_accuracy: 0.5111\n",
      "Epoch 19/20\n",
      "16/16 [==============================] - 0s 24ms/step - loss: 0.6750 - accuracy: 0.4921 - val_loss: 0.6798 - val_accuracy: 0.5111\n",
      "Epoch 20/20\n",
      "16/16 [==============================] - 0s 27ms/step - loss: 0.6806 - accuracy: 0.4921 - val_loss: 0.6790 - val_accuracy: 0.5111\n",
      "3/3 [==============================] - 0s 8ms/step - loss: 0.6790 - accuracy: 0.5111\n",
      "Epoch 1/20\n",
      "16/16 [==============================] - 0s 31ms/step - loss: 0.6780 - accuracy: 0.4928 - val_loss: 0.6887 - val_accuracy: 0.5000\n",
      "Epoch 2/20\n",
      "16/16 [==============================] - 0s 25ms/step - loss: 0.6812 - accuracy: 0.4928 - val_loss: 0.6898 - val_accuracy: 0.5000\n",
      "Epoch 3/20\n",
      "16/16 [==============================] - 0s 25ms/step - loss: 0.6779 - accuracy: 0.4928 - val_loss: 0.6902 - val_accuracy: 0.5000\n",
      "Epoch 4/20\n",
      "16/16 [==============================] - 0s 24ms/step - loss: 0.6792 - accuracy: 0.4928 - val_loss: 0.6912 - val_accuracy: 0.5000\n",
      "Epoch 5/20\n",
      "16/16 [==============================] - 0s 23ms/step - loss: 0.6793 - accuracy: 0.4928 - val_loss: 0.6921 - val_accuracy: 0.5000\n",
      "Epoch 6/20\n",
      "16/16 [==============================] - 0s 26ms/step - loss: 0.6755 - accuracy: 0.4928 - val_loss: 0.6933 - val_accuracy: 0.5000\n",
      "Epoch 7/20\n",
      "16/16 [==============================] - 0s 24ms/step - loss: 0.6762 - accuracy: 0.4928 - val_loss: 0.6936 - val_accuracy: 0.5000\n",
      "Epoch 8/20\n",
      "16/16 [==============================] - 0s 27ms/step - loss: 0.6751 - accuracy: 0.4928 - val_loss: 0.6937 - val_accuracy: 0.5000\n",
      "Epoch 9/20\n",
      "16/16 [==============================] - 0s 24ms/step - loss: 0.6758 - accuracy: 0.4928 - val_loss: 0.6933 - val_accuracy: 0.5000\n",
      "Epoch 10/20\n",
      "16/16 [==============================] - 0s 26ms/step - loss: 0.6738 - accuracy: 0.4928 - val_loss: 0.6916 - val_accuracy: 0.5000\n",
      "Epoch 11/20\n",
      "16/16 [==============================] - 0s 25ms/step - loss: 0.6748 - accuracy: 0.4928 - val_loss: 0.6912 - val_accuracy: 0.5000\n",
      "Epoch 12/20\n",
      "16/16 [==============================] - 0s 26ms/step - loss: 0.6755 - accuracy: 0.4928 - val_loss: 0.6916 - val_accuracy: 0.5000\n",
      "Epoch 13/20\n",
      "16/16 [==============================] - 0s 27ms/step - loss: 0.6767 - accuracy: 0.4928 - val_loss: 0.6921 - val_accuracy: 0.5000\n",
      "Epoch 14/20\n",
      "16/16 [==============================] - 0s 23ms/step - loss: 0.6786 - accuracy: 0.4928 - val_loss: 0.6919 - val_accuracy: 0.5000\n",
      "Epoch 15/20\n",
      "16/16 [==============================] - 0s 24ms/step - loss: 0.6735 - accuracy: 0.4928 - val_loss: 0.6931 - val_accuracy: 0.5000\n",
      "Epoch 16/20\n",
      "16/16 [==============================] - 0s 28ms/step - loss: 0.6782 - accuracy: 0.4928 - val_loss: 0.6946 - val_accuracy: 0.5000\n",
      "Epoch 17/20\n",
      "16/16 [==============================] - 0s 28ms/step - loss: 0.6750 - accuracy: 0.4928 - val_loss: 0.6937 - val_accuracy: 0.5000\n",
      "Epoch 18/20\n",
      "16/16 [==============================] - 0s 26ms/step - loss: 0.6736 - accuracy: 0.4928 - val_loss: 0.6949 - val_accuracy: 0.5000\n",
      "Epoch 19/20\n",
      "16/16 [==============================] - 0s 23ms/step - loss: 0.6762 - accuracy: 0.4928 - val_loss: 0.6937 - val_accuracy: 0.5000\n",
      "Epoch 20/20\n",
      "16/16 [==============================] - 0s 28ms/step - loss: 0.6757 - accuracy: 0.4928 - val_loss: 0.6937 - val_accuracy: 0.5000\n",
      "3/3 [==============================] - 0s 11ms/step - loss: 0.6937 - accuracy: 0.5000\n",
      "Epoch 1/20\n",
      "16/16 [==============================] - 1s 34ms/step - loss: 0.6758 - accuracy: 0.4921 - val_loss: 0.6932 - val_accuracy: 0.5106\n",
      "Epoch 2/20\n",
      "16/16 [==============================] - 0s 26ms/step - loss: 0.6798 - accuracy: 0.4921 - val_loss: 0.6934 - val_accuracy: 0.5106\n",
      "Epoch 3/20\n",
      "16/16 [==============================] - 1s 41ms/step - loss: 0.6758 - accuracy: 0.4921 - val_loss: 0.6935 - val_accuracy: 0.5106\n",
      "Epoch 4/20\n",
      "16/16 [==============================] - 0s 26ms/step - loss: 0.6753 - accuracy: 0.4921 - val_loss: 0.6937 - val_accuracy: 0.5106\n",
      "Epoch 5/20\n",
      "16/16 [==============================] - 0s 26ms/step - loss: 0.6749 - accuracy: 0.4921 - val_loss: 0.6940 - val_accuracy: 0.5106\n",
      "Epoch 6/20\n",
      "16/16 [==============================] - 0s 27ms/step - loss: 0.6770 - accuracy: 0.4921 - val_loss: 0.6947 - val_accuracy: 0.5106\n",
      "Epoch 7/20\n",
      "16/16 [==============================] - 0s 26ms/step - loss: 0.6790 - accuracy: 0.4921 - val_loss: 0.6948 - val_accuracy: 0.5106\n",
      "Epoch 8/20\n",
      "16/16 [==============================] - 0s 25ms/step - loss: 0.6736 - accuracy: 0.4921 - val_loss: 0.6947 - val_accuracy: 0.5106\n",
      "Epoch 9/20\n",
      "16/16 [==============================] - 0s 26ms/step - loss: 0.6795 - accuracy: 0.4921 - val_loss: 0.6947 - val_accuracy: 0.5106\n",
      "Epoch 10/20\n",
      "16/16 [==============================] - 0s 30ms/step - loss: 0.6761 - accuracy: 0.4921 - val_loss: 0.6954 - val_accuracy: 0.5106\n",
      "Epoch 11/20\n",
      "16/16 [==============================] - 0s 24ms/step - loss: 0.6724 - accuracy: 0.4921 - val_loss: 0.6958 - val_accuracy: 0.5106\n",
      "Epoch 12/20\n",
      "16/16 [==============================] - 1s 39ms/step - loss: 0.6735 - accuracy: 0.4921 - val_loss: 0.6959 - val_accuracy: 0.5106\n",
      "Epoch 13/20\n",
      "16/16 [==============================] - 0s 30ms/step - loss: 0.6724 - accuracy: 0.4921 - val_loss: 0.6967 - val_accuracy: 0.5106\n",
      "Epoch 14/20\n",
      "16/16 [==============================] - 0s 27ms/step - loss: 0.6742 - accuracy: 0.4921 - val_loss: 0.6968 - val_accuracy: 0.5106\n",
      "Epoch 15/20\n",
      "16/16 [==============================] - 0s 30ms/step - loss: 0.6720 - accuracy: 0.4921 - val_loss: 0.6969 - val_accuracy: 0.5106\n",
      "Epoch 16/20\n",
      "16/16 [==============================] - 0s 28ms/step - loss: 0.6723 - accuracy: 0.4921 - val_loss: 0.6959 - val_accuracy: 0.5106\n",
      "Epoch 17/20\n",
      "16/16 [==============================] - 0s 30ms/step - loss: 0.6758 - accuracy: 0.4921 - val_loss: 0.6952 - val_accuracy: 0.5106\n",
      "Epoch 18/20\n",
      "16/16 [==============================] - 0s 27ms/step - loss: 0.6694 - accuracy: 0.4921 - val_loss: 0.6957 - val_accuracy: 0.5106\n",
      "Epoch 19/20\n",
      "16/16 [==============================] - 0s 31ms/step - loss: 0.6765 - accuracy: 0.4921 - val_loss: 0.6960 - val_accuracy: 0.5106\n",
      "Epoch 20/20\n",
      "16/16 [==============================] - 0s 28ms/step - loss: 0.6718 - accuracy: 0.4921 - val_loss: 0.6967 - val_accuracy: 0.5106\n",
      "3/3 [==============================] - 0s 51ms/step - loss: 0.6967 - accuracy: 0.5106\n",
      "Epoch 1/20\n",
      "16/16 [==============================] - 0s 32ms/step - loss: 0.6732 - accuracy: 0.4928 - val_loss: 0.6821 - val_accuracy: 0.5000\n",
      "Epoch 2/20\n",
      "16/16 [==============================] - 0s 27ms/step - loss: 0.6773 - accuracy: 0.4928 - val_loss: 0.6814 - val_accuracy: 0.5000\n",
      "Epoch 3/20\n",
      "16/16 [==============================] - 0s 28ms/step - loss: 0.6734 - accuracy: 0.4928 - val_loss: 0.6833 - val_accuracy: 0.5000\n",
      "Epoch 4/20\n",
      "16/16 [==============================] - 0s 31ms/step - loss: 0.6756 - accuracy: 0.4928 - val_loss: 0.6837 - val_accuracy: 0.5000\n",
      "Epoch 5/20\n",
      "16/16 [==============================] - 1s 34ms/step - loss: 0.6714 - accuracy: 0.4928 - val_loss: 0.6849 - val_accuracy: 0.5000\n",
      "Epoch 6/20\n",
      "16/16 [==============================] - 1s 35ms/step - loss: 0.6769 - accuracy: 0.4928 - val_loss: 0.6864 - val_accuracy: 0.5000\n",
      "Epoch 7/20\n",
      "16/16 [==============================] - 1s 34ms/step - loss: 0.6738 - accuracy: 0.4928 - val_loss: 0.6877 - val_accuracy: 0.5000\n",
      "Epoch 8/20\n",
      "16/16 [==============================] - 1s 34ms/step - loss: 0.6747 - accuracy: 0.4928 - val_loss: 0.6868 - val_accuracy: 0.5000\n",
      "Epoch 9/20\n",
      "16/16 [==============================] - 1s 38ms/step - loss: 0.6718 - accuracy: 0.4928 - val_loss: 0.6868 - val_accuracy: 0.5000\n",
      "Epoch 10/20\n",
      "16/16 [==============================] - 1s 39ms/step - loss: 0.6732 - accuracy: 0.4928 - val_loss: 0.6871 - val_accuracy: 0.5000\n",
      "Epoch 11/20\n",
      "16/16 [==============================] - 1s 33ms/step - loss: 0.6747 - accuracy: 0.4928 - val_loss: 0.6884 - val_accuracy: 0.5000\n",
      "Epoch 12/20\n",
      "16/16 [==============================] - 1s 35ms/step - loss: 0.6752 - accuracy: 0.4928 - val_loss: 0.6869 - val_accuracy: 0.5000\n",
      "Epoch 13/20\n",
      "16/16 [==============================] - 1s 36ms/step - loss: 0.6745 - accuracy: 0.4928 - val_loss: 0.6881 - val_accuracy: 0.5000\n",
      "Epoch 14/20\n",
      "16/16 [==============================] - 1s 35ms/step - loss: 0.6718 - accuracy: 0.4928 - val_loss: 0.6870 - val_accuracy: 0.5000\n",
      "Epoch 15/20\n",
      "16/16 [==============================] - 1s 37ms/step - loss: 0.6762 - accuracy: 0.4928 - val_loss: 0.6883 - val_accuracy: 0.5000\n",
      "Epoch 16/20\n",
      "16/16 [==============================] - 1s 38ms/step - loss: 0.6795 - accuracy: 0.4928 - val_loss: 0.6882 - val_accuracy: 0.5000\n",
      "Epoch 17/20\n",
      "16/16 [==============================] - 1s 39ms/step - loss: 0.6728 - accuracy: 0.4928 - val_loss: 0.6881 - val_accuracy: 0.5000\n",
      "Epoch 18/20\n",
      "16/16 [==============================] - 1s 34ms/step - loss: 0.6735 - accuracy: 0.4928 - val_loss: 0.6901 - val_accuracy: 0.5000\n",
      "Epoch 19/20\n",
      "16/16 [==============================] - 1s 37ms/step - loss: 0.6764 - accuracy: 0.4928 - val_loss: 0.6909 - val_accuracy: 0.5000\n",
      "Epoch 20/20\n",
      "16/16 [==============================] - 1s 36ms/step - loss: 0.6762 - accuracy: 0.4928 - val_loss: 0.6922 - val_accuracy: 0.5000\n",
      "3/3 [==============================] - 0s 16ms/step - loss: 0.6922 - accuracy: 0.5000\n",
      "Epoch 1/20\n",
      "16/16 [==============================] - 1s 62ms/step - loss: 0.6718 - accuracy: 0.4987 - val_loss: 0.6793 - val_accuracy: 0.3692\n",
      "Epoch 2/20\n",
      "16/16 [==============================] - 0s 29ms/step - loss: 0.6808 - accuracy: 0.4987 - val_loss: 0.6799 - val_accuracy: 0.3692\n",
      "Epoch 3/20\n",
      "16/16 [==============================] - 0s 29ms/step - loss: 0.6727 - accuracy: 0.4987 - val_loss: 0.6805 - val_accuracy: 0.3692\n",
      "Epoch 4/20\n",
      "16/16 [==============================] - 0s 30ms/step - loss: 0.6795 - accuracy: 0.4987 - val_loss: 0.6804 - val_accuracy: 0.3692\n",
      "Epoch 5/20\n",
      "16/16 [==============================] - 1s 38ms/step - loss: 0.6772 - accuracy: 0.4987 - val_loss: 0.6814 - val_accuracy: 0.3692\n",
      "Epoch 6/20\n",
      "16/16 [==============================] - 0s 27ms/step - loss: 0.6762 - accuracy: 0.4987 - val_loss: 0.6805 - val_accuracy: 0.3692\n",
      "Epoch 7/20\n",
      "16/16 [==============================] - 0s 30ms/step - loss: 0.6749 - accuracy: 0.4987 - val_loss: 0.6801 - val_accuracy: 0.3692\n",
      "Epoch 8/20\n",
      "16/16 [==============================] - 1s 32ms/step - loss: 0.6740 - accuracy: 0.4987 - val_loss: 0.6805 - val_accuracy: 0.3692\n",
      "Epoch 9/20\n",
      "16/16 [==============================] - 0s 31ms/step - loss: 0.6743 - accuracy: 0.4987 - val_loss: 0.6803 - val_accuracy: 0.3692\n",
      "Epoch 10/20\n",
      "16/16 [==============================] - 0s 29ms/step - loss: 0.6739 - accuracy: 0.4987 - val_loss: 0.6805 - val_accuracy: 0.3692\n",
      "Epoch 11/20\n",
      "16/16 [==============================] - 0s 29ms/step - loss: 0.6741 - accuracy: 0.4987 - val_loss: 0.6811 - val_accuracy: 0.3692\n",
      "Epoch 12/20\n",
      "16/16 [==============================] - 0s 31ms/step - loss: 0.6742 - accuracy: 0.4987 - val_loss: 0.6816 - val_accuracy: 0.3692\n",
      "Epoch 13/20\n",
      "16/16 [==============================] - 1s 32ms/step - loss: 0.6753 - accuracy: 0.4987 - val_loss: 0.6841 - val_accuracy: 0.3692\n",
      "Epoch 14/20\n",
      "16/16 [==============================] - 1s 34ms/step - loss: 0.6736 - accuracy: 0.4987 - val_loss: 0.6843 - val_accuracy: 0.3692\n",
      "Epoch 15/20\n",
      "16/16 [==============================] - 0s 28ms/step - loss: 0.6732 - accuracy: 0.4987 - val_loss: 0.6835 - val_accuracy: 0.3692\n",
      "Epoch 16/20\n",
      "16/16 [==============================] - 0s 31ms/step - loss: 0.6737 - accuracy: 0.4987 - val_loss: 0.6823 - val_accuracy: 0.3692\n",
      "Epoch 17/20\n",
      "16/16 [==============================] - 1s 33ms/step - loss: 0.6753 - accuracy: 0.4987 - val_loss: 0.6825 - val_accuracy: 0.3692\n",
      "Epoch 18/20\n",
      "16/16 [==============================] - 0s 25ms/step - loss: 0.6691 - accuracy: 0.4987 - val_loss: 0.6834 - val_accuracy: 0.3692\n",
      "Epoch 19/20\n",
      "16/16 [==============================] - 0s 26ms/step - loss: 0.6731 - accuracy: 0.4987 - val_loss: 0.6838 - val_accuracy: 0.3692\n",
      "Epoch 20/20\n",
      "16/16 [==============================] - 1s 32ms/step - loss: 0.6705 - accuracy: 0.4987 - val_loss: 0.6821 - val_accuracy: 0.3692\n",
      "3/3 [==============================] - 0s 8ms/step - loss: 0.6821 - accuracy: 0.3692\n",
      "Epoch 1/20\n",
      "16/16 [==============================] - 1s 39ms/step - loss: 0.6719 - accuracy: 0.4918 - val_loss: 0.6720 - val_accuracy: 0.5161\n",
      "Epoch 2/20\n",
      "16/16 [==============================] - 1s 32ms/step - loss: 0.6758 - accuracy: 0.4918 - val_loss: 0.6754 - val_accuracy: 0.5161\n",
      "Epoch 3/20\n",
      "16/16 [==============================] - 0s 28ms/step - loss: 0.6720 - accuracy: 0.4918 - val_loss: 0.6760 - val_accuracy: 0.5161\n",
      "Epoch 4/20\n",
      "16/16 [==============================] - 0s 32ms/step - loss: 0.6694 - accuracy: 0.4918 - val_loss: 0.6782 - val_accuracy: 0.5161\n",
      "Epoch 5/20\n",
      "16/16 [==============================] - 0s 29ms/step - loss: 0.6702 - accuracy: 0.4918 - val_loss: 0.6778 - val_accuracy: 0.5161\n",
      "Epoch 6/20\n",
      "16/16 [==============================] - 0s 28ms/step - loss: 0.6726 - accuracy: 0.4918 - val_loss: 0.6824 - val_accuracy: 0.5161\n",
      "Epoch 7/20\n",
      "16/16 [==============================] - 0s 30ms/step - loss: 0.6745 - accuracy: 0.4918 - val_loss: 0.6838 - val_accuracy: 0.5161\n",
      "Epoch 8/20\n",
      "16/16 [==============================] - 0s 29ms/step - loss: 0.6662 - accuracy: 0.4918 - val_loss: 0.6842 - val_accuracy: 0.5161\n",
      "Epoch 9/20\n",
      "16/16 [==============================] - 0s 30ms/step - loss: 0.6672 - accuracy: 0.4918 - val_loss: 0.6869 - val_accuracy: 0.5161\n",
      "Epoch 10/20\n",
      "16/16 [==============================] - 0s 25ms/step - loss: 0.6700 - accuracy: 0.4918 - val_loss: 0.6898 - val_accuracy: 0.5161\n",
      "Epoch 11/20\n",
      "16/16 [==============================] - 0s 28ms/step - loss: 0.6642 - accuracy: 0.4918 - val_loss: 0.6913 - val_accuracy: 0.5161\n",
      "Epoch 12/20\n",
      "16/16 [==============================] - 0s 29ms/step - loss: 0.6716 - accuracy: 0.4918 - val_loss: 0.6877 - val_accuracy: 0.5161\n",
      "Epoch 13/20\n",
      "16/16 [==============================] - 0s 30ms/step - loss: 0.6699 - accuracy: 0.4918 - val_loss: 0.6846 - val_accuracy: 0.5161\n",
      "Epoch 14/20\n",
      "16/16 [==============================] - 0s 29ms/step - loss: 0.6688 - accuracy: 0.4918 - val_loss: 0.6848 - val_accuracy: 0.5161\n",
      "Epoch 15/20\n",
      "16/16 [==============================] - 0s 28ms/step - loss: 0.6722 - accuracy: 0.4918 - val_loss: 0.6855 - val_accuracy: 0.5161\n",
      "Epoch 16/20\n",
      "16/16 [==============================] - 0s 31ms/step - loss: 0.6708 - accuracy: 0.4918 - val_loss: 0.6911 - val_accuracy: 0.5161\n",
      "Epoch 17/20\n",
      "16/16 [==============================] - 1s 32ms/step - loss: 0.6691 - accuracy: 0.4918 - val_loss: 0.6943 - val_accuracy: 0.5161\n",
      "Epoch 18/20\n",
      "16/16 [==============================] - 1s 33ms/step - loss: 0.6688 - accuracy: 0.4918 - val_loss: 0.6960 - val_accuracy: 0.5161\n",
      "Epoch 19/20\n",
      "16/16 [==============================] - 0s 31ms/step - loss: 0.6649 - accuracy: 0.4918 - val_loss: 0.6933 - val_accuracy: 0.5161\n",
      "Epoch 20/20\n",
      "16/16 [==============================] - 0s 29ms/step - loss: 0.6675 - accuracy: 0.4918 - val_loss: 0.6947 - val_accuracy: 0.5161\n",
      "3/3 [==============================] - 0s 8ms/step - loss: 0.6947 - accuracy: 0.5161\n",
      "Epoch 1/20\n",
      "16/16 [==============================] - 1s 42ms/step - loss: 0.6752 - accuracy: 0.4925 - val_loss: 0.6504 - val_accuracy: 0.5057\n",
      "Epoch 2/20\n",
      "16/16 [==============================] - 1s 32ms/step - loss: 0.6694 - accuracy: 0.4925 - val_loss: 0.6561 - val_accuracy: 0.5057\n",
      "Epoch 3/20\n",
      "16/16 [==============================] - 1s 34ms/step - loss: 0.6656 - accuracy: 0.4925 - val_loss: 0.6587 - val_accuracy: 0.5057\n",
      "Epoch 4/20\n",
      "16/16 [==============================] - 0s 30ms/step - loss: 0.6666 - accuracy: 0.4925 - val_loss: 0.6638 - val_accuracy: 0.5057\n",
      "Epoch 5/20\n",
      "16/16 [==============================] - 1s 33ms/step - loss: 0.6726 - accuracy: 0.4925 - val_loss: 0.6675 - val_accuracy: 0.5057\n",
      "Epoch 6/20\n",
      "16/16 [==============================] - 0s 30ms/step - loss: 0.6674 - accuracy: 0.4925 - val_loss: 0.6649 - val_accuracy: 0.5057\n",
      "Epoch 7/20\n",
      "16/16 [==============================] - 1s 37ms/step - loss: 0.6632 - accuracy: 0.4925 - val_loss: 0.6644 - val_accuracy: 0.5057\n",
      "Epoch 8/20\n",
      "16/16 [==============================] - 0s 28ms/step - loss: 0.6722 - accuracy: 0.4925 - val_loss: 0.6670 - val_accuracy: 0.5057\n",
      "Epoch 9/20\n",
      "16/16 [==============================] - 0s 29ms/step - loss: 0.6641 - accuracy: 0.4925 - val_loss: 0.6710 - val_accuracy: 0.5057\n",
      "Epoch 10/20\n",
      "16/16 [==============================] - 1s 34ms/step - loss: 0.6711 - accuracy: 0.4925 - val_loss: 0.6694 - val_accuracy: 0.5057\n",
      "Epoch 11/20\n",
      "16/16 [==============================] - 1s 31ms/step - loss: 0.6647 - accuracy: 0.4925 - val_loss: 0.6688 - val_accuracy: 0.5057\n",
      "Epoch 12/20\n",
      "16/16 [==============================] - 0s 29ms/step - loss: 0.6676 - accuracy: 0.4925 - val_loss: 0.6718 - val_accuracy: 0.5057\n",
      "Epoch 13/20\n",
      "16/16 [==============================] - 1s 32ms/step - loss: 0.6649 - accuracy: 0.4925 - val_loss: 0.6712 - val_accuracy: 0.5057\n",
      "Epoch 14/20\n",
      "16/16 [==============================] - 0s 31ms/step - loss: 0.6671 - accuracy: 0.4925 - val_loss: 0.6713 - val_accuracy: 0.5057\n",
      "Epoch 15/20\n",
      "16/16 [==============================] - 1s 34ms/step - loss: 0.6688 - accuracy: 0.4925 - val_loss: 0.6741 - val_accuracy: 0.5057\n",
      "Epoch 16/20\n",
      "16/16 [==============================] - 0s 28ms/step - loss: 0.6715 - accuracy: 0.4925 - val_loss: 0.6753 - val_accuracy: 0.5057\n",
      "Epoch 17/20\n",
      "16/16 [==============================] - 1s 33ms/step - loss: 0.6657 - accuracy: 0.4925 - val_loss: 0.6770 - val_accuracy: 0.5057\n",
      "Epoch 18/20\n",
      "16/16 [==============================] - 0s 28ms/step - loss: 0.6716 - accuracy: 0.4925 - val_loss: 0.6745 - val_accuracy: 0.5057\n",
      "Epoch 19/20\n",
      "16/16 [==============================] - 1s 32ms/step - loss: 0.6696 - accuracy: 0.4925 - val_loss: 0.6764 - val_accuracy: 0.5057\n",
      "Epoch 20/20\n",
      "16/16 [==============================] - 0s 29ms/step - loss: 0.6674 - accuracy: 0.4925 - val_loss: 0.6748 - val_accuracy: 0.5057\n",
      "3/3 [==============================] - 0s 7ms/step - loss: 0.6748 - accuracy: 0.5057\n",
      "Epoch 1/20\n",
      "16/16 [==============================] - 1s 41ms/step - loss: 0.6761 - accuracy: 0.4942 - val_loss: 0.6312 - val_accuracy: 0.4783\n",
      "Epoch 2/20\n",
      "16/16 [==============================] - 0s 30ms/step - loss: 0.6684 - accuracy: 0.4942 - val_loss: 0.6362 - val_accuracy: 0.4783\n",
      "Epoch 3/20\n",
      "16/16 [==============================] - 1s 32ms/step - loss: 0.6733 - accuracy: 0.4942 - val_loss: 0.6358 - val_accuracy: 0.4783\n",
      "Epoch 4/20\n",
      "16/16 [==============================] - 0s 31ms/step - loss: 0.6754 - accuracy: 0.4942 - val_loss: 0.6379 - val_accuracy: 0.4783\n",
      "Epoch 5/20\n",
      "16/16 [==============================] - 0s 30ms/step - loss: 0.6680 - accuracy: 0.4942 - val_loss: 0.6378 - val_accuracy: 0.4783\n",
      "Epoch 6/20\n",
      "16/16 [==============================] - 1s 34ms/step - loss: 0.6686 - accuracy: 0.4942 - val_loss: 0.6394 - val_accuracy: 0.4783\n",
      "Epoch 7/20\n",
      "16/16 [==============================] - 1s 34ms/step - loss: 0.6655 - accuracy: 0.4942 - val_loss: 0.6349 - val_accuracy: 0.4783\n",
      "Epoch 8/20\n",
      "16/16 [==============================] - 0s 29ms/step - loss: 0.6719 - accuracy: 0.4942 - val_loss: 0.6335 - val_accuracy: 0.4783\n",
      "Epoch 9/20\n",
      "16/16 [==============================] - 1s 33ms/step - loss: 0.6695 - accuracy: 0.4942 - val_loss: 0.6348 - val_accuracy: 0.4783\n",
      "Epoch 10/20\n",
      "16/16 [==============================] - 1s 32ms/step - loss: 0.6729 - accuracy: 0.4942 - val_loss: 0.6345 - val_accuracy: 0.4783\n",
      "Epoch 11/20\n",
      "16/16 [==============================] - 1s 34ms/step - loss: 0.6696 - accuracy: 0.4942 - val_loss: 0.6348 - val_accuracy: 0.4783\n",
      "Epoch 12/20\n",
      "16/16 [==============================] - 1s 34ms/step - loss: 0.6658 - accuracy: 0.4942 - val_loss: 0.6376 - val_accuracy: 0.4783\n",
      "Epoch 13/20\n",
      "16/16 [==============================] - 1s 33ms/step - loss: 0.6645 - accuracy: 0.4942 - val_loss: 0.6360 - val_accuracy: 0.4783\n",
      "Epoch 14/20\n",
      "16/16 [==============================] - 0s 30ms/step - loss: 0.6704 - accuracy: 0.4942 - val_loss: 0.6408 - val_accuracy: 0.4783\n",
      "Epoch 15/20\n",
      "16/16 [==============================] - 1s 46ms/step - loss: 0.6675 - accuracy: 0.4942 - val_loss: 0.6433 - val_accuracy: 0.4783\n",
      "Epoch 16/20\n",
      "16/16 [==============================] - 1s 43ms/step - loss: 0.6718 - accuracy: 0.4942 - val_loss: 0.6444 - val_accuracy: 0.4783\n",
      "Epoch 17/20\n",
      "16/16 [==============================] - 1s 32ms/step - loss: 0.6748 - accuracy: 0.4942 - val_loss: 0.6419 - val_accuracy: 0.4783\n",
      "Epoch 18/20\n",
      "16/16 [==============================] - 1s 32ms/step - loss: 0.6711 - accuracy: 0.4942 - val_loss: 0.6426 - val_accuracy: 0.4783\n",
      "Epoch 19/20\n",
      "16/16 [==============================] - 1s 36ms/step - loss: 0.6662 - accuracy: 0.4942 - val_loss: 0.6437 - val_accuracy: 0.4783\n",
      "Epoch 20/20\n",
      "16/16 [==============================] - 1s 36ms/step - loss: 0.6725 - accuracy: 0.4942 - val_loss: 0.6446 - val_accuracy: 0.4783\n",
      "3/3 [==============================] - 0s 70ms/step - loss: 0.6446 - accuracy: 0.4783\n",
      "Epoch 1/20\n",
      "16/16 [==============================] - 1s 42ms/step - loss: 0.6706 - accuracy: 0.4912 - val_loss: 0.6750 - val_accuracy: 0.5309\n",
      "Epoch 2/20\n",
      "16/16 [==============================] - 1s 38ms/step - loss: 0.6681 - accuracy: 0.4912 - val_loss: 0.6753 - val_accuracy: 0.5309\n",
      "Epoch 3/20\n",
      "16/16 [==============================] - 1s 32ms/step - loss: 0.6682 - accuracy: 0.4912 - val_loss: 0.6775 - val_accuracy: 0.5309\n",
      "Epoch 4/20\n",
      "16/16 [==============================] - 0s 26ms/step - loss: 0.6640 - accuracy: 0.4912 - val_loss: 0.6803 - val_accuracy: 0.5309\n",
      "Epoch 5/20\n",
      "16/16 [==============================] - 0s 27ms/step - loss: 0.6700 - accuracy: 0.4912 - val_loss: 0.6808 - val_accuracy: 0.5309\n",
      "Epoch 6/20\n",
      "16/16 [==============================] - 1s 34ms/step - loss: 0.6644 - accuracy: 0.4912 - val_loss: 0.6829 - val_accuracy: 0.5309\n",
      "Epoch 7/20\n",
      "16/16 [==============================] - 0s 29ms/step - loss: 0.6637 - accuracy: 0.4912 - val_loss: 0.6836 - val_accuracy: 0.5309\n",
      "Epoch 8/20\n",
      "16/16 [==============================] - 1s 33ms/step - loss: 0.6681 - accuracy: 0.4912 - val_loss: 0.6845 - val_accuracy: 0.5309\n",
      "Epoch 9/20\n",
      "16/16 [==============================] - 1s 38ms/step - loss: 0.6716 - accuracy: 0.4912 - val_loss: 0.6817 - val_accuracy: 0.5309\n",
      "Epoch 10/20\n",
      "16/16 [==============================] - 1s 40ms/step - loss: 0.6648 - accuracy: 0.4912 - val_loss: 0.6812 - val_accuracy: 0.5309\n",
      "Epoch 11/20\n",
      "16/16 [==============================] - 1s 36ms/step - loss: 0.6644 - accuracy: 0.4912 - val_loss: 0.6827 - val_accuracy: 0.5309\n",
      "Epoch 12/20\n",
      "16/16 [==============================] - 1s 36ms/step - loss: 0.6649 - accuracy: 0.4912 - val_loss: 0.6824 - val_accuracy: 0.5309\n",
      "Epoch 13/20\n",
      "16/16 [==============================] - 1s 38ms/step - loss: 0.6652 - accuracy: 0.4912 - val_loss: 0.6824 - val_accuracy: 0.5309\n",
      "Epoch 14/20\n",
      "16/16 [==============================] - 0s 29ms/step - loss: 0.6661 - accuracy: 0.4912 - val_loss: 0.6825 - val_accuracy: 0.5309\n",
      "Epoch 15/20\n",
      "16/16 [==============================] - 1s 33ms/step - loss: 0.6686 - accuracy: 0.4912 - val_loss: 0.6826 - val_accuracy: 0.5309\n",
      "Epoch 16/20\n",
      "16/16 [==============================] - 1s 34ms/step - loss: 0.6657 - accuracy: 0.4912 - val_loss: 0.6830 - val_accuracy: 0.5309\n",
      "Epoch 17/20\n",
      "16/16 [==============================] - 0s 28ms/step - loss: 0.6643 - accuracy: 0.4912 - val_loss: 0.6834 - val_accuracy: 0.5309\n",
      "Epoch 18/20\n",
      "16/16 [==============================] - 0s 27ms/step - loss: 0.6652 - accuracy: 0.4912 - val_loss: 0.6849 - val_accuracy: 0.5309\n",
      "Epoch 19/20\n",
      "16/16 [==============================] - 0s 31ms/step - loss: 0.6650 - accuracy: 0.4912 - val_loss: 0.6861 - val_accuracy: 0.5309\n",
      "Epoch 20/20\n",
      "16/16 [==============================] - 0s 31ms/step - loss: 0.6685 - accuracy: 0.4912 - val_loss: 0.6878 - val_accuracy: 0.5309\n",
      "3/3 [==============================] - 0s 16ms/step - loss: 0.6878 - accuracy: 0.5309\n",
      "Epoch 1/20\n",
      "16/16 [==============================] - 1s 44ms/step - loss: 0.6651 - accuracy: 0.4953 - val_loss: 0.5921 - val_accuracy: 0.4426\n",
      "Epoch 2/20\n",
      "16/16 [==============================] - 1s 39ms/step - loss: 0.6676 - accuracy: 0.4953 - val_loss: 0.5932 - val_accuracy: 0.4426\n",
      "Epoch 3/20\n",
      "16/16 [==============================] - 1s 36ms/step - loss: 0.6706 - accuracy: 0.4953 - val_loss: 0.5945 - val_accuracy: 0.4426\n",
      "Epoch 4/20\n",
      "16/16 [==============================] - 1s 43ms/step - loss: 0.6736 - accuracy: 0.4953 - val_loss: 0.5996 - val_accuracy: 0.4426\n",
      "Epoch 5/20\n",
      "16/16 [==============================] - 1s 42ms/step - loss: 0.6660 - accuracy: 0.4953 - val_loss: 0.6035 - val_accuracy: 0.4426\n",
      "Epoch 6/20\n",
      "16/16 [==============================] - 1s 42ms/step - loss: 0.6654 - accuracy: 0.4953 - val_loss: 0.6058 - val_accuracy: 0.4426\n",
      "Epoch 7/20\n",
      "16/16 [==============================] - 0s 29ms/step - loss: 0.6642 - accuracy: 0.4953 - val_loss: 0.6040 - val_accuracy: 0.4426\n",
      "Epoch 8/20\n",
      "16/16 [==============================] - 1s 43ms/step - loss: 0.6652 - accuracy: 0.4953 - val_loss: 0.6028 - val_accuracy: 0.4426\n",
      "Epoch 9/20\n",
      "16/16 [==============================] - 1s 40ms/step - loss: 0.6621 - accuracy: 0.4953 - val_loss: 0.6035 - val_accuracy: 0.4426\n",
      "Epoch 10/20\n",
      "16/16 [==============================] - 1s 38ms/step - loss: 0.6657 - accuracy: 0.4953 - val_loss: 0.6050 - val_accuracy: 0.4426\n",
      "Epoch 11/20\n",
      "16/16 [==============================] - 0s 27ms/step - loss: 0.6642 - accuracy: 0.4953 - val_loss: 0.6094 - val_accuracy: 0.4426\n",
      "Epoch 12/20\n",
      "16/16 [==============================] - 0s 27ms/step - loss: 0.6719 - accuracy: 0.4953 - val_loss: 0.6071 - val_accuracy: 0.4426\n",
      "Epoch 13/20\n",
      "16/16 [==============================] - 0s 30ms/step - loss: 0.6648 - accuracy: 0.4953 - val_loss: 0.6044 - val_accuracy: 0.4426\n",
      "Epoch 14/20\n",
      "16/16 [==============================] - 0s 29ms/step - loss: 0.6696 - accuracy: 0.4953 - val_loss: 0.6088 - val_accuracy: 0.4426\n",
      "Epoch 15/20\n",
      "16/16 [==============================] - 1s 36ms/step - loss: 0.6662 - accuracy: 0.4953 - val_loss: 0.6081 - val_accuracy: 0.4426\n",
      "Epoch 16/20\n",
      "16/16 [==============================] - 1s 40ms/step - loss: 0.6647 - accuracy: 0.4953 - val_loss: 0.6080 - val_accuracy: 0.4426\n",
      "Epoch 17/20\n",
      "16/16 [==============================] - 1s 33ms/step - loss: 0.6660 - accuracy: 0.4953 - val_loss: 0.6085 - val_accuracy: 0.4426\n",
      "Epoch 18/20\n",
      "16/16 [==============================] - 1s 34ms/step - loss: 0.6678 - accuracy: 0.4953 - val_loss: 0.6102 - val_accuracy: 0.4426\n",
      "Epoch 19/20\n",
      "16/16 [==============================] - 0s 27ms/step - loss: 0.6655 - accuracy: 0.4953 - val_loss: 0.6097 - val_accuracy: 0.4426\n",
      "Epoch 20/20\n",
      "16/16 [==============================] - 0s 30ms/step - loss: 0.6641 - accuracy: 0.4953 - val_loss: 0.6096 - val_accuracy: 0.4426\n",
      "2/2 [==============================] - 0s 9ms/step - loss: 0.6096 - accuracy: 0.4426\n",
      "Epoch 1/20\n",
      "16/16 [==============================] - 1s 40ms/step - loss: 0.6668 - accuracy: 0.4932 - val_loss: 0.6499 - val_accuracy: 0.4932\n",
      "Epoch 2/20\n",
      "16/16 [==============================] - 0s 28ms/step - loss: 0.6639 - accuracy: 0.4932 - val_loss: 0.6502 - val_accuracy: 0.4932\n",
      "Epoch 3/20\n",
      "16/16 [==============================] - 0s 29ms/step - loss: 0.6613 - accuracy: 0.4932 - val_loss: 0.6521 - val_accuracy: 0.4932\n",
      "Epoch 4/20\n",
      "16/16 [==============================] - 0s 29ms/step - loss: 0.6656 - accuracy: 0.4932 - val_loss: 0.6547 - val_accuracy: 0.4932\n",
      "Epoch 5/20\n",
      "16/16 [==============================] - 0s 27ms/step - loss: 0.6646 - accuracy: 0.4932 - val_loss: 0.6570 - val_accuracy: 0.4932\n",
      "Epoch 6/20\n",
      "16/16 [==============================] - 1s 33ms/step - loss: 0.6660 - accuracy: 0.4932 - val_loss: 0.6581 - val_accuracy: 0.4932\n",
      "Epoch 7/20\n",
      "16/16 [==============================] - 1s 33ms/step - loss: 0.6633 - accuracy: 0.4932 - val_loss: 0.6583 - val_accuracy: 0.4932\n",
      "Epoch 8/20\n",
      "16/16 [==============================] - 0s 29ms/step - loss: 0.6588 - accuracy: 0.4932 - val_loss: 0.6643 - val_accuracy: 0.4932\n",
      "Epoch 9/20\n",
      "16/16 [==============================] - 0s 26ms/step - loss: 0.6632 - accuracy: 0.4932 - val_loss: 0.6649 - val_accuracy: 0.4932\n",
      "Epoch 10/20\n",
      "16/16 [==============================] - 0s 27ms/step - loss: 0.6652 - accuracy: 0.4932 - val_loss: 0.6631 - val_accuracy: 0.4932\n",
      "Epoch 11/20\n",
      "16/16 [==============================] - 0s 25ms/step - loss: 0.6657 - accuracy: 0.4932 - val_loss: 0.6618 - val_accuracy: 0.4932\n",
      "Epoch 12/20\n",
      "16/16 [==============================] - 0s 27ms/step - loss: 0.6625 - accuracy: 0.4932 - val_loss: 0.6613 - val_accuracy: 0.4932\n",
      "Epoch 13/20\n",
      "16/16 [==============================] - 1s 37ms/step - loss: 0.6644 - accuracy: 0.4932 - val_loss: 0.6623 - val_accuracy: 0.4932\n",
      "Epoch 14/20\n",
      "16/16 [==============================] - 1s 33ms/step - loss: 0.6624 - accuracy: 0.4932 - val_loss: 0.6651 - val_accuracy: 0.4932\n",
      "Epoch 15/20\n",
      "16/16 [==============================] - 1s 33ms/step - loss: 0.6606 - accuracy: 0.4932 - val_loss: 0.6690 - val_accuracy: 0.4932\n",
      "Epoch 16/20\n",
      "16/16 [==============================] - 0s 29ms/step - loss: 0.6622 - accuracy: 0.4932 - val_loss: 0.6702 - val_accuracy: 0.4932\n",
      "Epoch 17/20\n",
      "16/16 [==============================] - 0s 31ms/step - loss: 0.6667 - accuracy: 0.4932 - val_loss: 0.6702 - val_accuracy: 0.4932\n",
      "Epoch 18/20\n",
      "16/16 [==============================] - 0s 25ms/step - loss: 0.6614 - accuracy: 0.4932 - val_loss: 0.6696 - val_accuracy: 0.4932\n",
      "Epoch 19/20\n",
      "16/16 [==============================] - 1s 34ms/step - loss: 0.6636 - accuracy: 0.4932 - val_loss: 0.6713 - val_accuracy: 0.4932\n",
      "Epoch 20/20\n",
      "16/16 [==============================] - 0s 29ms/step - loss: 0.6684 - accuracy: 0.4932 - val_loss: 0.6713 - val_accuracy: 0.4932\n",
      "3/3 [==============================] - 0s 25ms/step - loss: 0.6713 - accuracy: 0.4932\n",
      "Epoch 1/20\n",
      "16/16 [==============================] - 1s 39ms/step - loss: 0.6612 - accuracy: 0.4928 - val_loss: 0.6950 - val_accuracy: 0.5000\n",
      "Epoch 2/20\n",
      "16/16 [==============================] - 0s 28ms/step - loss: 0.6560 - accuracy: 0.4928 - val_loss: 0.6999 - val_accuracy: 0.5000\n",
      "Epoch 3/20\n",
      "16/16 [==============================] - 1s 33ms/step - loss: 0.6591 - accuracy: 0.4928 - val_loss: 0.7031 - val_accuracy: 0.5000\n",
      "Epoch 4/20\n",
      "16/16 [==============================] - 1s 34ms/step - loss: 0.6597 - accuracy: 0.4928 - val_loss: 0.7066 - val_accuracy: 0.5000\n",
      "Epoch 5/20\n",
      "16/16 [==============================] - 1s 34ms/step - loss: 0.6565 - accuracy: 0.4928 - val_loss: 0.7120 - val_accuracy: 0.5000\n",
      "Epoch 6/20\n",
      "16/16 [==============================] - 0s 27ms/step - loss: 0.6641 - accuracy: 0.4928 - val_loss: 0.7131 - val_accuracy: 0.5000\n",
      "Epoch 7/20\n",
      "16/16 [==============================] - 0s 28ms/step - loss: 0.6569 - accuracy: 0.4928 - val_loss: 0.7122 - val_accuracy: 0.5000\n",
      "Epoch 8/20\n",
      "16/16 [==============================] - 0s 29ms/step - loss: 0.6564 - accuracy: 0.4928 - val_loss: 0.7134 - val_accuracy: 0.5000\n",
      "Epoch 9/20\n",
      "16/16 [==============================] - 1s 34ms/step - loss: 0.6595 - accuracy: 0.4928 - val_loss: 0.7136 - val_accuracy: 0.5000\n",
      "Epoch 10/20\n",
      "16/16 [==============================] - 0s 30ms/step - loss: 0.6590 - accuracy: 0.4928 - val_loss: 0.7142 - val_accuracy: 0.5000\n",
      "Epoch 11/20\n",
      "16/16 [==============================] - 0s 30ms/step - loss: 0.6571 - accuracy: 0.4928 - val_loss: 0.7150 - val_accuracy: 0.5000\n",
      "Epoch 12/20\n",
      "16/16 [==============================] - 0s 27ms/step - loss: 0.6484 - accuracy: 0.4928 - val_loss: 0.7146 - val_accuracy: 0.5000\n",
      "Epoch 13/20\n",
      "16/16 [==============================] - 0s 25ms/step - loss: 0.6586 - accuracy: 0.4928 - val_loss: 0.7165 - val_accuracy: 0.5000\n",
      "Epoch 14/20\n",
      "16/16 [==============================] - 0s 28ms/step - loss: 0.6557 - accuracy: 0.4928 - val_loss: 0.7212 - val_accuracy: 0.5000\n",
      "Epoch 15/20\n",
      "16/16 [==============================] - 0s 28ms/step - loss: 0.6606 - accuracy: 0.4928 - val_loss: 0.7218 - val_accuracy: 0.5000\n",
      "Epoch 16/20\n",
      "16/16 [==============================] - 0s 32ms/step - loss: 0.6603 - accuracy: 0.4928 - val_loss: 0.7232 - val_accuracy: 0.5000\n",
      "Epoch 17/20\n",
      "16/16 [==============================] - 0s 26ms/step - loss: 0.6571 - accuracy: 0.4928 - val_loss: 0.7145 - val_accuracy: 0.5000\n",
      "Epoch 18/20\n",
      "16/16 [==============================] - 0s 30ms/step - loss: 0.6603 - accuracy: 0.4928 - val_loss: 0.7172 - val_accuracy: 0.5000\n",
      "Epoch 19/20\n",
      "16/16 [==============================] - 1s 33ms/step - loss: 0.6597 - accuracy: 0.4928 - val_loss: 0.7176 - val_accuracy: 0.5000\n",
      "Epoch 20/20\n",
      "16/16 [==============================] - 0s 26ms/step - loss: 0.6544 - accuracy: 0.4928 - val_loss: 0.7142 - val_accuracy: 0.5000\n",
      "3/3 [==============================] - 0s 20ms/step - loss: 0.7142 - accuracy: 0.5000\n",
      "Epoch 1/20\n",
      "16/16 [==============================] - 1s 34ms/step - loss: 0.6591 - accuracy: 0.4935 - val_loss: 0.6647 - val_accuracy: 0.4881\n",
      "Epoch 2/20\n",
      "16/16 [==============================] - 1s 34ms/step - loss: 0.6593 - accuracy: 0.4935 - val_loss: 0.6729 - val_accuracy: 0.4881\n",
      "Epoch 3/20\n",
      "16/16 [==============================] - 0s 31ms/step - loss: 0.6665 - accuracy: 0.4935 - val_loss: 0.6730 - val_accuracy: 0.4881\n",
      "Epoch 4/20\n",
      "16/16 [==============================] - 1s 32ms/step - loss: 0.6559 - accuracy: 0.4935 - val_loss: 0.6733 - val_accuracy: 0.4881\n",
      "Epoch 5/20\n",
      "16/16 [==============================] - 1s 34ms/step - loss: 0.6627 - accuracy: 0.4935 - val_loss: 0.6710 - val_accuracy: 0.4881\n",
      "Epoch 6/20\n",
      "16/16 [==============================] - 1s 32ms/step - loss: 0.6639 - accuracy: 0.4935 - val_loss: 0.6707 - val_accuracy: 0.4881\n",
      "Epoch 7/20\n",
      "16/16 [==============================] - 1s 37ms/step - loss: 0.6591 - accuracy: 0.4935 - val_loss: 0.6708 - val_accuracy: 0.4881\n",
      "Epoch 8/20\n",
      "16/16 [==============================] - 0s 32ms/step - loss: 0.6594 - accuracy: 0.4935 - val_loss: 0.6709 - val_accuracy: 0.4881\n",
      "Epoch 9/20\n",
      "16/16 [==============================] - 1s 33ms/step - loss: 0.6623 - accuracy: 0.4935 - val_loss: 0.6739 - val_accuracy: 0.4881\n",
      "Epoch 10/20\n",
      "16/16 [==============================] - 0s 32ms/step - loss: 0.6630 - accuracy: 0.4935 - val_loss: 0.6748 - val_accuracy: 0.4881\n",
      "Epoch 11/20\n",
      "16/16 [==============================] - 1s 32ms/step - loss: 0.6642 - accuracy: 0.4935 - val_loss: 0.6760 - val_accuracy: 0.4881\n",
      "Epoch 12/20\n",
      "16/16 [==============================] - 1s 37ms/step - loss: 0.6620 - accuracy: 0.4935 - val_loss: 0.6736 - val_accuracy: 0.4881\n",
      "Epoch 13/20\n",
      "16/16 [==============================] - 1s 40ms/step - loss: 0.6639 - accuracy: 0.4935 - val_loss: 0.6728 - val_accuracy: 0.4881\n",
      "Epoch 14/20\n",
      "16/16 [==============================] - 1s 34ms/step - loss: 0.6634 - accuracy: 0.4935 - val_loss: 0.6727 - val_accuracy: 0.4881\n",
      "Epoch 15/20\n",
      "16/16 [==============================] - 1s 35ms/step - loss: 0.6615 - accuracy: 0.4935 - val_loss: 0.6725 - val_accuracy: 0.4881\n",
      "Epoch 16/20\n",
      "16/16 [==============================] - 1s 49ms/step - loss: 0.6625 - accuracy: 0.4935 - val_loss: 0.6731 - val_accuracy: 0.4881\n",
      "Epoch 17/20\n",
      "16/16 [==============================] - 0s 30ms/step - loss: 0.6634 - accuracy: 0.4935 - val_loss: 0.6745 - val_accuracy: 0.4881\n",
      "Epoch 18/20\n",
      "16/16 [==============================] - 1s 41ms/step - loss: 0.6636 - accuracy: 0.4935 - val_loss: 0.6766 - val_accuracy: 0.4881\n",
      "Epoch 19/20\n",
      "16/16 [==============================] - 1s 32ms/step - loss: 0.6623 - accuracy: 0.4935 - val_loss: 0.6752 - val_accuracy: 0.4881\n",
      "Epoch 20/20\n",
      "16/16 [==============================] - 1s 35ms/step - loss: 0.6606 - accuracy: 0.4935 - val_loss: 0.6764 - val_accuracy: 0.4881\n",
      "3/3 [==============================] - 0s 17ms/step - loss: 0.6764 - accuracy: 0.4881\n",
      "Epoch 1/20\n",
      "16/16 [==============================] - 1s 46ms/step - loss: 0.6669 - accuracy: 0.4939 - val_loss: 0.5890 - val_accuracy: 0.4815\n",
      "Epoch 2/20\n",
      "16/16 [==============================] - 1s 41ms/step - loss: 0.6652 - accuracy: 0.4939 - val_loss: 0.5947 - val_accuracy: 0.4815\n",
      "Epoch 3/20\n",
      "16/16 [==============================] - 1s 40ms/step - loss: 0.6702 - accuracy: 0.4939 - val_loss: 0.6025 - val_accuracy: 0.4815\n",
      "Epoch 4/20\n",
      "16/16 [==============================] - 1s 42ms/step - loss: 0.6686 - accuracy: 0.4939 - val_loss: 0.6096 - val_accuracy: 0.4815\n",
      "Epoch 5/20\n",
      "16/16 [==============================] - 1s 35ms/step - loss: 0.6557 - accuracy: 0.4939 - val_loss: 0.6105 - val_accuracy: 0.4815\n",
      "Epoch 6/20\n",
      "16/16 [==============================] - 0s 28ms/step - loss: 0.6636 - accuracy: 0.4939 - val_loss: 0.6105 - val_accuracy: 0.4815\n",
      "Epoch 7/20\n",
      "16/16 [==============================] - 0s 30ms/step - loss: 0.6590 - accuracy: 0.4939 - val_loss: 0.6103 - val_accuracy: 0.4815\n",
      "Epoch 8/20\n",
      "16/16 [==============================] - 1s 41ms/step - loss: 0.6581 - accuracy: 0.4939 - val_loss: 0.6149 - val_accuracy: 0.4815\n",
      "Epoch 9/20\n",
      "16/16 [==============================] - 1s 41ms/step - loss: 0.6605 - accuracy: 0.4939 - val_loss: 0.6212 - val_accuracy: 0.4815\n",
      "Epoch 10/20\n",
      "16/16 [==============================] - 1s 37ms/step - loss: 0.6625 - accuracy: 0.4939 - val_loss: 0.6202 - val_accuracy: 0.4815\n",
      "Epoch 11/20\n",
      "16/16 [==============================] - 1s 43ms/step - loss: 0.6613 - accuracy: 0.4939 - val_loss: 0.6196 - val_accuracy: 0.4815\n",
      "Epoch 12/20\n",
      "16/16 [==============================] - 1s 43ms/step - loss: 0.6644 - accuracy: 0.4939 - val_loss: 0.6243 - val_accuracy: 0.4815\n",
      "Epoch 13/20\n",
      "16/16 [==============================] - 1s 35ms/step - loss: 0.6615 - accuracy: 0.4939 - val_loss: 0.6216 - val_accuracy: 0.4815\n",
      "Epoch 14/20\n",
      "16/16 [==============================] - 0s 28ms/step - loss: 0.6592 - accuracy: 0.4939 - val_loss: 0.6236 - val_accuracy: 0.4815\n",
      "Epoch 15/20\n",
      "16/16 [==============================] - 1s 32ms/step - loss: 0.6631 - accuracy: 0.4939 - val_loss: 0.6316 - val_accuracy: 0.4815\n",
      "Epoch 16/20\n",
      "16/16 [==============================] - 1s 41ms/step - loss: 0.6643 - accuracy: 0.4939 - val_loss: 0.6323 - val_accuracy: 0.4815\n",
      "Epoch 17/20\n",
      "16/16 [==============================] - 1s 43ms/step - loss: 0.6677 - accuracy: 0.4939 - val_loss: 0.6324 - val_accuracy: 0.4815\n",
      "Epoch 18/20\n",
      "16/16 [==============================] - 1s 35ms/step - loss: 0.6561 - accuracy: 0.4939 - val_loss: 0.6403 - val_accuracy: 0.4815\n",
      "Epoch 19/20\n",
      "16/16 [==============================] - 0s 29ms/step - loss: 0.6602 - accuracy: 0.4939 - val_loss: 0.6370 - val_accuracy: 0.4815\n",
      "Epoch 20/20\n",
      "16/16 [==============================] - 0s 30ms/step - loss: 0.6649 - accuracy: 0.4939 - val_loss: 0.6407 - val_accuracy: 0.4815\n",
      "3/3 [==============================] - 0s 17ms/step - loss: 0.6407 - accuracy: 0.4815\n",
      "Epoch 1/20\n",
      "16/16 [==============================] - 1s 59ms/step - loss: 0.6667 - accuracy: 0.4929 - val_loss: 0.5524 - val_accuracy: 0.5000\n",
      "Epoch 2/20\n",
      "16/16 [==============================] - 1s 44ms/step - loss: 0.6660 - accuracy: 0.4929 - val_loss: 0.5563 - val_accuracy: 0.5000\n",
      "Epoch 3/20\n",
      "16/16 [==============================] - 0s 26ms/step - loss: 0.6646 - accuracy: 0.4929 - val_loss: 0.5674 - val_accuracy: 0.5000\n",
      "Epoch 4/20\n",
      "16/16 [==============================] - 1s 33ms/step - loss: 0.6650 - accuracy: 0.4929 - val_loss: 0.5663 - val_accuracy: 0.5000\n",
      "Epoch 5/20\n",
      "16/16 [==============================] - 1s 32ms/step - loss: 0.6603 - accuracy: 0.4929 - val_loss: 0.5742 - val_accuracy: 0.5000\n",
      "Epoch 6/20\n",
      "16/16 [==============================] - 0s 30ms/step - loss: 0.6637 - accuracy: 0.4929 - val_loss: 0.5772 - val_accuracy: 0.5000\n",
      "Epoch 7/20\n",
      "16/16 [==============================] - 0s 31ms/step - loss: 0.6621 - accuracy: 0.4929 - val_loss: 0.5803 - val_accuracy: 0.5000\n",
      "Epoch 8/20\n",
      "16/16 [==============================] - 1s 40ms/step - loss: 0.6618 - accuracy: 0.4929 - val_loss: 0.5878 - val_accuracy: 0.5000\n",
      "Epoch 9/20\n",
      "16/16 [==============================] - 1s 34ms/step - loss: 0.6698 - accuracy: 0.4929 - val_loss: 0.5905 - val_accuracy: 0.5000\n",
      "Epoch 10/20\n",
      "16/16 [==============================] - 1s 33ms/step - loss: 0.6677 - accuracy: 0.4929 - val_loss: 0.5856 - val_accuracy: 0.5000\n",
      "Epoch 11/20\n",
      "16/16 [==============================] - 0s 28ms/step - loss: 0.6637 - accuracy: 0.4929 - val_loss: 0.5871 - val_accuracy: 0.5000\n",
      "Epoch 12/20\n",
      "16/16 [==============================] - 0s 32ms/step - loss: 0.6644 - accuracy: 0.4929 - val_loss: 0.5915 - val_accuracy: 0.5000\n",
      "Epoch 13/20\n",
      "16/16 [==============================] - 1s 34ms/step - loss: 0.6621 - accuracy: 0.4929 - val_loss: 0.5949 - val_accuracy: 0.5000\n",
      "Epoch 14/20\n",
      "16/16 [==============================] - 0s 32ms/step - loss: 0.6651 - accuracy: 0.4929 - val_loss: 0.5954 - val_accuracy: 0.5000\n",
      "Epoch 15/20\n",
      "16/16 [==============================] - 1s 31ms/step - loss: 0.6647 - accuracy: 0.4929 - val_loss: 0.5960 - val_accuracy: 0.5000\n",
      "Epoch 16/20\n",
      "16/16 [==============================] - 0s 31ms/step - loss: 0.6615 - accuracy: 0.4929 - val_loss: 0.5959 - val_accuracy: 0.5000\n",
      "Epoch 17/20\n",
      "16/16 [==============================] - 1s 31ms/step - loss: 0.6589 - accuracy: 0.4929 - val_loss: 0.5932 - val_accuracy: 0.5000\n",
      "Epoch 18/20\n",
      "16/16 [==============================] - 0s 31ms/step - loss: 0.6668 - accuracy: 0.4929 - val_loss: 0.5954 - val_accuracy: 0.5000\n",
      "Epoch 19/20\n",
      "16/16 [==============================] - 0s 29ms/step - loss: 0.6645 - accuracy: 0.4929 - val_loss: 0.5926 - val_accuracy: 0.5000\n",
      "Epoch 20/20\n",
      "16/16 [==============================] - 0s 26ms/step - loss: 0.6593 - accuracy: 0.4929 - val_loss: 0.5873 - val_accuracy: 0.5000\n",
      "3/3 [==============================] - 0s 9ms/step - loss: 0.5873 - accuracy: 0.5000\n",
      "Epoch 1/20\n",
      "16/16 [==============================] - 1s 44ms/step - loss: 0.6634 - accuracy: 0.4957 - val_loss: 0.6084 - val_accuracy: 0.3462\n",
      "Epoch 2/20\n",
      "16/16 [==============================] - 1s 34ms/step - loss: 0.6595 - accuracy: 0.4957 - val_loss: 0.6099 - val_accuracy: 0.3462\n",
      "Epoch 3/20\n",
      "16/16 [==============================] - 1s 32ms/step - loss: 0.6650 - accuracy: 0.4957 - val_loss: 0.6148 - val_accuracy: 0.3462\n",
      "Epoch 4/20\n",
      "16/16 [==============================] - 1s 32ms/step - loss: 0.6582 - accuracy: 0.4957 - val_loss: 0.6169 - val_accuracy: 0.3462\n",
      "Epoch 5/20\n",
      "16/16 [==============================] - 0s 30ms/step - loss: 0.6550 - accuracy: 0.4957 - val_loss: 0.6183 - val_accuracy: 0.3462\n",
      "Epoch 6/20\n",
      "16/16 [==============================] - 1s 33ms/step - loss: 0.6610 - accuracy: 0.4957 - val_loss: 0.6219 - val_accuracy: 0.3462\n",
      "Epoch 7/20\n",
      "16/16 [==============================] - 1s 35ms/step - loss: 0.6595 - accuracy: 0.4957 - val_loss: 0.6212 - val_accuracy: 0.3462\n",
      "Epoch 8/20\n",
      "16/16 [==============================] - 1s 31ms/step - loss: 0.6535 - accuracy: 0.4957 - val_loss: 0.6233 - val_accuracy: 0.3462\n",
      "Epoch 9/20\n",
      "16/16 [==============================] - 1s 36ms/step - loss: 0.6537 - accuracy: 0.4957 - val_loss: 0.6312 - val_accuracy: 0.3462\n",
      "Epoch 10/20\n",
      "16/16 [==============================] - 0s 29ms/step - loss: 0.6631 - accuracy: 0.4957 - val_loss: 0.6368 - val_accuracy: 0.3462\n",
      "Epoch 11/20\n",
      "16/16 [==============================] - 1s 34ms/step - loss: 0.6626 - accuracy: 0.4957 - val_loss: 0.6392 - val_accuracy: 0.3462\n",
      "Epoch 12/20\n",
      "16/16 [==============================] - 0s 29ms/step - loss: 0.6591 - accuracy: 0.4957 - val_loss: 0.6347 - val_accuracy: 0.3462\n",
      "Epoch 13/20\n",
      "16/16 [==============================] - 1s 32ms/step - loss: 0.6583 - accuracy: 0.4957 - val_loss: 0.6362 - val_accuracy: 0.3462\n",
      "Epoch 14/20\n",
      "16/16 [==============================] - 0s 30ms/step - loss: 0.6572 - accuracy: 0.4957 - val_loss: 0.6441 - val_accuracy: 0.3462\n",
      "Epoch 15/20\n",
      "16/16 [==============================] - 0s 32ms/step - loss: 0.6572 - accuracy: 0.4957 - val_loss: 0.6463 - val_accuracy: 0.3462\n",
      "Epoch 16/20\n",
      "16/16 [==============================] - 0s 27ms/step - loss: 0.6588 - accuracy: 0.4957 - val_loss: 0.6455 - val_accuracy: 0.3462\n",
      "Epoch 17/20\n",
      "16/16 [==============================] - 0s 25ms/step - loss: 0.6612 - accuracy: 0.4957 - val_loss: 0.6419 - val_accuracy: 0.3462\n",
      "Epoch 18/20\n",
      "16/16 [==============================] - 0s 31ms/step - loss: 0.6537 - accuracy: 0.4957 - val_loss: 0.6434 - val_accuracy: 0.3462\n",
      "Epoch 19/20\n",
      "16/16 [==============================] - 0s 29ms/step - loss: 0.6542 - accuracy: 0.4957 - val_loss: 0.6412 - val_accuracy: 0.3462\n",
      "Epoch 20/20\n",
      "16/16 [==============================] - 0s 27ms/step - loss: 0.6614 - accuracy: 0.4957 - val_loss: 0.6346 - val_accuracy: 0.3462\n",
      "1/1 [==============================] - 0s 59ms/step - loss: 0.6346 - accuracy: 0.3462\n",
      "Epoch 1/20\n",
      "17/17 [==============================] - 1s 39ms/step - loss: 0.6634 - accuracy: 0.4935 - val_loss: 0.6327 - val_accuracy: 0.4444\n",
      "Epoch 2/20\n",
      "17/17 [==============================] - 1s 32ms/step - loss: 0.6562 - accuracy: 0.4935 - val_loss: 0.6309 - val_accuracy: 0.4444\n",
      "Epoch 3/20\n",
      "17/17 [==============================] - 1s 36ms/step - loss: 0.6584 - accuracy: 0.4935 - val_loss: 0.6428 - val_accuracy: 0.4444\n",
      "Epoch 4/20\n",
      "17/17 [==============================] - 1s 31ms/step - loss: 0.6585 - accuracy: 0.4935 - val_loss: 0.6528 - val_accuracy: 0.4444\n",
      "Epoch 5/20\n",
      "17/17 [==============================] - 1s 30ms/step - loss: 0.6607 - accuracy: 0.4935 - val_loss: 0.6485 - val_accuracy: 0.4444\n",
      "Epoch 6/20\n",
      "17/17 [==============================] - 1s 30ms/step - loss: 0.6615 - accuracy: 0.4935 - val_loss: 0.6412 - val_accuracy: 0.4444\n",
      "Epoch 7/20\n",
      "17/17 [==============================] - 1s 32ms/step - loss: 0.6599 - accuracy: 0.4935 - val_loss: 0.6314 - val_accuracy: 0.4444\n",
      "Epoch 8/20\n",
      "17/17 [==============================] - 0s 29ms/step - loss: 0.6595 - accuracy: 0.4935 - val_loss: 0.6383 - val_accuracy: 0.4444\n",
      "Epoch 9/20\n",
      "17/17 [==============================] - 0s 28ms/step - loss: 0.6492 - accuracy: 0.4935 - val_loss: 0.6411 - val_accuracy: 0.4444\n",
      "Epoch 10/20\n",
      "17/17 [==============================] - 0s 27ms/step - loss: 0.6582 - accuracy: 0.4935 - val_loss: 0.6484 - val_accuracy: 0.4444\n",
      "Epoch 11/20\n",
      "17/17 [==============================] - 1s 33ms/step - loss: 0.6632 - accuracy: 0.4935 - val_loss: 0.6476 - val_accuracy: 0.4444\n",
      "Epoch 12/20\n",
      "17/17 [==============================] - 0s 29ms/step - loss: 0.6636 - accuracy: 0.4935 - val_loss: 0.6622 - val_accuracy: 0.4444\n",
      "Epoch 13/20\n",
      "17/17 [==============================] - 1s 35ms/step - loss: 0.6548 - accuracy: 0.4935 - val_loss: 0.6580 - val_accuracy: 0.4444\n",
      "Epoch 14/20\n",
      "17/17 [==============================] - 1s 34ms/step - loss: 0.6606 - accuracy: 0.4935 - val_loss: 0.6548 - val_accuracy: 0.4444\n",
      "Epoch 15/20\n",
      "17/17 [==============================] - 1s 31ms/step - loss: 0.6608 - accuracy: 0.4935 - val_loss: 0.6552 - val_accuracy: 0.4444\n",
      "Epoch 16/20\n",
      "17/17 [==============================] - 1s 30ms/step - loss: 0.6631 - accuracy: 0.4935 - val_loss: 0.6526 - val_accuracy: 0.4444\n",
      "Epoch 17/20\n",
      "17/17 [==============================] - 1s 38ms/step - loss: 0.6580 - accuracy: 0.4935 - val_loss: 0.6457 - val_accuracy: 0.4444\n",
      "Epoch 18/20\n",
      "17/17 [==============================] - 1s 38ms/step - loss: 0.6612 - accuracy: 0.4935 - val_loss: 0.6554 - val_accuracy: 0.4444\n",
      "Epoch 19/20\n",
      "17/17 [==============================] - 1s 33ms/step - loss: 0.6578 - accuracy: 0.4935 - val_loss: 0.6583 - val_accuracy: 0.4444\n",
      "Epoch 20/20\n",
      "17/17 [==============================] - 1s 35ms/step - loss: 0.6577 - accuracy: 0.4935 - val_loss: 0.6518 - val_accuracy: 0.4444\n",
      "1/1 [==============================] - 0s 60ms/step - loss: 0.6518 - accuracy: 0.4444\n",
      "Epoch 1/20\n",
      "16/16 [==============================] - 1s 46ms/step - loss: 0.6522 - accuracy: 0.4906 - val_loss: 0.6235 - val_accuracy: 0.5507\n",
      "Epoch 2/20\n",
      "16/16 [==============================] - 0s 30ms/step - loss: 0.6594 - accuracy: 0.4906 - val_loss: 0.6247 - val_accuracy: 0.5507\n",
      "Epoch 3/20\n",
      "16/16 [==============================] - 0s 32ms/step - loss: 0.6583 - accuracy: 0.4906 - val_loss: 0.6291 - val_accuracy: 0.5507\n",
      "Epoch 4/20\n",
      "16/16 [==============================] - 0s 31ms/step - loss: 0.6539 - accuracy: 0.4906 - val_loss: 0.6326 - val_accuracy: 0.5507\n",
      "Epoch 5/20\n",
      "16/16 [==============================] - 0s 30ms/step - loss: 0.6503 - accuracy: 0.4906 - val_loss: 0.6343 - val_accuracy: 0.5507\n",
      "Epoch 6/20\n",
      "16/16 [==============================] - 0s 27ms/step - loss: 0.6574 - accuracy: 0.4906 - val_loss: 0.6346 - val_accuracy: 0.5507\n",
      "Epoch 7/20\n",
      "16/16 [==============================] - 0s 29ms/step - loss: 0.6620 - accuracy: 0.4906 - val_loss: 0.6332 - val_accuracy: 0.5507\n",
      "Epoch 8/20\n",
      "16/16 [==============================] - 0s 31ms/step - loss: 0.6540 - accuracy: 0.4906 - val_loss: 0.6342 - val_accuracy: 0.5507\n",
      "Epoch 9/20\n",
      "16/16 [==============================] - 0s 28ms/step - loss: 0.6633 - accuracy: 0.4906 - val_loss: 0.6376 - val_accuracy: 0.5507\n",
      "Epoch 10/20\n",
      "16/16 [==============================] - 0s 29ms/step - loss: 0.6538 - accuracy: 0.4906 - val_loss: 0.6384 - val_accuracy: 0.5507\n",
      "Epoch 11/20\n",
      "16/16 [==============================] - 0s 31ms/step - loss: 0.6649 - accuracy: 0.4906 - val_loss: 0.6379 - val_accuracy: 0.5507\n",
      "Epoch 12/20\n",
      "16/16 [==============================] - 0s 29ms/step - loss: 0.6577 - accuracy: 0.4906 - val_loss: 0.6412 - val_accuracy: 0.5507\n",
      "Epoch 13/20\n",
      "16/16 [==============================] - 0s 28ms/step - loss: 0.6504 - accuracy: 0.4906 - val_loss: 0.6425 - val_accuracy: 0.5507\n",
      "Epoch 14/20\n",
      "16/16 [==============================] - 0s 31ms/step - loss: 0.6582 - accuracy: 0.4906 - val_loss: 0.6445 - val_accuracy: 0.5507\n",
      "Epoch 15/20\n",
      "16/16 [==============================] - 1s 35ms/step - loss: 0.6583 - accuracy: 0.4906 - val_loss: 0.6473 - val_accuracy: 0.5507\n",
      "Epoch 16/20\n",
      "16/16 [==============================] - 1s 34ms/step - loss: 0.6569 - accuracy: 0.4906 - val_loss: 0.6495 - val_accuracy: 0.5507\n",
      "Epoch 17/20\n",
      "16/16 [==============================] - 1s 32ms/step - loss: 0.6553 - accuracy: 0.4906 - val_loss: 0.6493 - val_accuracy: 0.5507\n",
      "Epoch 18/20\n",
      "16/16 [==============================] - 0s 27ms/step - loss: 0.6557 - accuracy: 0.4906 - val_loss: 0.6478 - val_accuracy: 0.5507\n",
      "Epoch 19/20\n",
      "16/16 [==============================] - 1s 35ms/step - loss: 0.6588 - accuracy: 0.4906 - val_loss: 0.6463 - val_accuracy: 0.5507\n",
      "Epoch 20/20\n",
      "16/16 [==============================] - 1s 33ms/step - loss: 0.6529 - accuracy: 0.4906 - val_loss: 0.6480 - val_accuracy: 0.5507\n",
      "3/3 [==============================] - 0s 31ms/step - loss: 0.6480 - accuracy: 0.5507\n"
     ]
    }
   ],
   "source": [
    "\n",
    "# accuracy=[]\n",
    "# for train_index, val_index in logo.split(data_array, label_array, groups=group_array):\n",
    "#     train_features,train_labels=data_array[train_index],label_array[train_index]\n",
    "#     val_features,val_labels=data_array[val_index],label_array[val_index]\n",
    "#     scaler=StandardScaler()\n",
    "#     train_features = scaler.fit_transform(train_features.reshape(-1, train_features.shape[-1])).reshape(train_features.shape)\n",
    "#     val_features = scaler.transform(val_features.reshape(-1, val_features.shape[-1])).reshape(val_features.shape)\n",
    "#     model=EEGNetModel\n",
    "#     model.fit(train_features,train_labels,epochs=20,batch_size=96,validation_data=(val_features,val_labels))\n",
    "#     accuracy.append(model.evaluate(val_features,val_labels)[1])"
   ]
  },
  {
   "cell_type": "markdown",
   "metadata": {},
   "source": [
    "https://github.com/JodieAsh/Real-Time-EEG-Classification-with-Muse/blob/master/Build%26TestClassifier.py\n",
    "https://link.springer.com/chapter/10.1007/978-3-030-29933-0_37\n",
    "https://github.com/jordan-bird/eeg-feature-generation"
   ]
  }
 ],
 "metadata": {
  "kernelspec": {
   "display_name": "env",
   "language": "python",
   "name": "python3"
  },
  "language_info": {
   "codemirror_mode": {
    "name": "ipython",
    "version": 3
   },
   "file_extension": ".py",
   "mimetype": "text/x-python",
   "name": "python",
   "nbconvert_exporter": "python",
   "pygments_lexer": "ipython3",
   "version": "3.10.11"
  },
  "orig_nbformat": 4
 },
 "nbformat": 4,
 "nbformat_minor": 2
}
